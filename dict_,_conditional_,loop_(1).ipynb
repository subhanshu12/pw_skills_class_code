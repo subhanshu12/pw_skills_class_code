{
  "cells": [
    {
      "cell_type": "code",
      "execution_count": null,
      "id": "d3bc59a8-1cc1-4f97-9a11-337529dde45a",
      "metadata": {
        "id": "d3bc59a8-1cc1-4f97-9a11-337529dde45a"
      },
      "outputs": [],
      "source": [
        "d = {}"
      ]
    },
    {
      "cell_type": "code",
      "execution_count": null,
      "id": "9c4e1cc8-948f-4630-8e4c-689a196672bf",
      "metadata": {
        "id": "9c4e1cc8-948f-4630-8e4c-689a196672bf",
        "outputId": "12a13879-66e1-4f9e-b72d-bf7b8ae427af"
      },
      "outputs": [
        {
          "data": {
            "text/plain": [
              "dict"
            ]
          },
          "execution_count": 3,
          "metadata": {},
          "output_type": "execute_result"
        }
      ],
      "source": [
        "type(d)"
      ]
    },
    {
      "cell_type": "code",
      "execution_count": null,
      "id": "15439b41-f222-48e7-87cf-0fdc439d5483",
      "metadata": {
        "id": "15439b41-f222-48e7-87cf-0fdc439d5483"
      },
      "outputs": [],
      "source": [
        "d1 = {'key' : \"sudh\"}"
      ]
    },
    {
      "cell_type": "code",
      "execution_count": null,
      "id": "e0052ccd-92c9-42d5-8152-5d3e3d7da393",
      "metadata": {
        "id": "e0052ccd-92c9-42d5-8152-5d3e3d7da393",
        "outputId": "7896c793-837a-4f26-8474-6ffcee33e293"
      },
      "outputs": [
        {
          "data": {
            "text/plain": [
              "{'key': 'sudh'}"
            ]
          },
          "execution_count": 5,
          "metadata": {},
          "output_type": "execute_result"
        }
      ],
      "source": [
        "d1"
      ]
    },
    {
      "cell_type": "code",
      "execution_count": null,
      "id": "b9816072-25a2-4556-ae7e-a8f8a6f189b8",
      "metadata": {
        "id": "b9816072-25a2-4556-ae7e-a8f8a6f189b8"
      },
      "outputs": [],
      "source": [
        "d2 = {'name' : \"sudhanshu\" , \"email\" : \"ss@gmail.com\", \"number\" : 334534}"
      ]
    },
    {
      "cell_type": "code",
      "execution_count": null,
      "id": "c139ef00-3548-4a29-b041-1c2ba9b3db2f",
      "metadata": {
        "id": "c139ef00-3548-4a29-b041-1c2ba9b3db2f",
        "outputId": "2bfbd002-05a2-4517-a23e-7a3f37024e2f"
      },
      "outputs": [
        {
          "data": {
            "text/plain": [
              "{'name': 'sudhanshu', 'email': 'ss@gmail.com', 'number': 334534}"
            ]
          },
          "execution_count": 7,
          "metadata": {},
          "output_type": "execute_result"
        }
      ],
      "source": [
        "d2"
      ]
    },
    {
      "cell_type": "code",
      "execution_count": null,
      "id": "d40e089b-4763-42d9-9a65-f0fb5489b8f4",
      "metadata": {
        "id": "d40e089b-4763-42d9-9a65-f0fb5489b8f4"
      },
      "outputs": [],
      "source": [
        "d3 = {234 : \"sudh\" , '_wer' : \"kumar\",True :24234}"
      ]
    },
    {
      "cell_type": "code",
      "execution_count": null,
      "id": "5b03eeb2-baa8-4051-ba80-e5729db0d8b0",
      "metadata": {
        "id": "5b03eeb2-baa8-4051-ba80-e5729db0d8b0",
        "outputId": "f4f63f7e-4c31-4e11-db69-0fa09d919e0e"
      },
      "outputs": [
        {
          "data": {
            "text/plain": [
              "{234: 'sudh', '_wer': 'kumar', True: 24234}"
            ]
          },
          "execution_count": 14,
          "metadata": {},
          "output_type": "execute_result"
        }
      ],
      "source": [
        "d3"
      ]
    },
    {
      "cell_type": "code",
      "execution_count": null,
      "id": "d239b7c7-b9dc-4714-b063-2fb7ace1fd3d",
      "metadata": {
        "id": "d239b7c7-b9dc-4714-b063-2fb7ace1fd3d",
        "outputId": "a724c76e-3164-46e7-b61f-194473c81ca8"
      },
      "outputs": [
        {
          "data": {
            "text/plain": [
              "'sudh'"
            ]
          },
          "execution_count": 15,
          "metadata": {},
          "output_type": "execute_result"
        }
      ],
      "source": [
        "d3[234]"
      ]
    },
    {
      "cell_type": "code",
      "execution_count": null,
      "id": "20f1ccaa-319f-4a79-ac54-b78cdcf97b65",
      "metadata": {
        "id": "20f1ccaa-319f-4a79-ac54-b78cdcf97b65",
        "outputId": "0616550e-7d42-48b3-dca8-a3f176337675"
      },
      "outputs": [
        {
          "data": {
            "text/plain": [
              "24234"
            ]
          },
          "execution_count": 16,
          "metadata": {},
          "output_type": "execute_result"
        }
      ],
      "source": [
        "d3[True]"
      ]
    },
    {
      "cell_type": "code",
      "execution_count": null,
      "id": "06cc2d90-a745-4b78-b5ee-99c5433222be",
      "metadata": {
        "id": "06cc2d90-a745-4b78-b5ee-99c5433222be",
        "outputId": "4ec4bf81-d055-45ac-8f7d-f248c23ff982"
      },
      "outputs": [
        {
          "data": {
            "text/plain": [
              "24234"
            ]
          },
          "execution_count": 17,
          "metadata": {},
          "output_type": "execute_result"
        }
      ],
      "source": [
        "d3[1]"
      ]
    },
    {
      "cell_type": "code",
      "execution_count": null,
      "id": "8bbc4c68-fa4d-4ebb-9566-f29e7d50d4f3",
      "metadata": {
        "id": "8bbc4c68-fa4d-4ebb-9566-f29e7d50d4f3"
      },
      "outputs": [],
      "source": [
        "d4 = {'name':\"sudh\" , 'mail_id' :\"ss@gmail.com\" ,\"name\":\"sudhanshu\"}"
      ]
    },
    {
      "cell_type": "code",
      "execution_count": null,
      "id": "56f003f4-0639-4670-a545-e82168f8f299",
      "metadata": {
        "id": "56f003f4-0639-4670-a545-e82168f8f299",
        "outputId": "36cbf283-0c7f-4144-8db2-c63d1c7ff596"
      },
      "outputs": [
        {
          "data": {
            "text/plain": [
              "'sudhanshu'"
            ]
          },
          "execution_count": 20,
          "metadata": {},
          "output_type": "execute_result"
        }
      ],
      "source": [
        "d4['name']"
      ]
    },
    {
      "cell_type": "code",
      "execution_count": null,
      "id": "bb6d3237-d93b-48ab-ac2b-8aaba7d5e6c7",
      "metadata": {
        "id": "bb6d3237-d93b-48ab-ac2b-8aaba7d5e6c7"
      },
      "outputs": [],
      "source": [
        "d5 ={\"company\" : \"pwskills\" , \"course\" :[\"web dev\" , \"data science \" , \"java with dsa system design\"]}"
      ]
    },
    {
      "cell_type": "code",
      "execution_count": null,
      "id": "b02c0815-4b95-4b09-8479-4b63051c77d6",
      "metadata": {
        "id": "b02c0815-4b95-4b09-8479-4b63051c77d6",
        "outputId": "644b4772-2d75-46b9-9c23-b62a04fb66ca"
      },
      "outputs": [
        {
          "data": {
            "text/plain": [
              "{'company': 'pwskills',\n",
              " 'course': ['web dev', 'data science ', 'java with dsa system design']}"
            ]
          },
          "execution_count": 22,
          "metadata": {},
          "output_type": "execute_result"
        }
      ],
      "source": [
        "d5 "
      ]
    },
    {
      "cell_type": "code",
      "execution_count": null,
      "id": "db8355ef-a2ca-48b5-8785-a8da7639aa9b",
      "metadata": {
        "id": "db8355ef-a2ca-48b5-8785-a8da7639aa9b",
        "outputId": "bd56e8e4-bf83-4500-8b29-80d65db3a17a"
      },
      "outputs": [
        {
          "data": {
            "text/plain": [
              "['web dev', 'data science ', 'java with dsa system design']"
            ]
          },
          "execution_count": 23,
          "metadata": {},
          "output_type": "execute_result"
        }
      ],
      "source": [
        "d5['course']"
      ]
    },
    {
      "cell_type": "code",
      "execution_count": null,
      "id": "d702ed13-a5db-4c83-99ae-30d2d275f6a7",
      "metadata": {
        "id": "d702ed13-a5db-4c83-99ae-30d2d275f6a7",
        "outputId": "a5c58fd7-f710-4389-fd28-c913b46d6123"
      },
      "outputs": [
        {
          "data": {
            "text/plain": [
              "'java with dsa system design'"
            ]
          },
          "execution_count": 24,
          "metadata": {},
          "output_type": "execute_result"
        }
      ],
      "source": [
        "d5['course'][2]"
      ]
    },
    {
      "cell_type": "code",
      "execution_count": null,
      "id": "6c81af66-5eae-4d04-9d63-26db91b7f1f9",
      "metadata": {
        "id": "6c81af66-5eae-4d04-9d63-26db91b7f1f9"
      },
      "outputs": [],
      "source": [
        "d6 = {\"number\" : [2,34,3,34,34],\"assignment\":(1,2,3,4,5,6) , \"launch_date\":{28,12,14} ,\"class_time\":{\"web_dev\": 8 , \"Data science masters\" : 8 , \"java with dsa and system design\":7}}"
      ]
    },
    {
      "cell_type": "code",
      "execution_count": null,
      "id": "dcdcc28b-1783-4d52-a153-93170a8f27b1",
      "metadata": {
        "id": "dcdcc28b-1783-4d52-a153-93170a8f27b1"
      },
      "outputs": [],
      "source": []
    },
    {
      "cell_type": "code",
      "execution_count": null,
      "id": "ad8ca77d-299d-4105-a367-60f18a8c1f9c",
      "metadata": {
        "id": "ad8ca77d-299d-4105-a367-60f18a8c1f9c",
        "outputId": "ed5053d4-47e7-4c1e-aec2-1dc859dcef7c"
      },
      "outputs": [
        {
          "data": {
            "text/plain": [
              "{'number': [2, 34, 3, 34, 34],\n",
              " 'assignment': (1, 2, 3, 4, 5, 6),\n",
              " 'launch_date': {12, 14, 28},\n",
              " 'class_time': {'web_dev': 8,\n",
              "  'Data science masters': 8,\n",
              "  'java with dsa and system design': 7}}"
            ]
          },
          "execution_count": 28,
          "metadata": {},
          "output_type": "execute_result"
        }
      ],
      "source": [
        "d6"
      ]
    },
    {
      "cell_type": "code",
      "execution_count": null,
      "id": "5750a3b2-1e34-4d33-98b4-865a53484c4f",
      "metadata": {
        "id": "5750a3b2-1e34-4d33-98b4-865a53484c4f",
        "outputId": "3c6ff975-282f-4338-9957-a79ed0ca67c3"
      },
      "outputs": [
        {
          "data": {
            "text/plain": [
              "7"
            ]
          },
          "execution_count": 30,
          "metadata": {},
          "output_type": "execute_result"
        }
      ],
      "source": [
        "d6['class_time']['java with dsa and system design']"
      ]
    },
    {
      "cell_type": "code",
      "execution_count": null,
      "id": "d06f2b52-dcef-46c3-b341-60230734f23d",
      "metadata": {
        "id": "d06f2b52-dcef-46c3-b341-60230734f23d",
        "outputId": "219fdff0-f0b3-49f5-b96b-efc5cacef47e"
      },
      "outputs": [
        {
          "data": {
            "text/plain": [
              "{'number': [2, 34, 3, 34, 34],\n",
              " 'assignment': (1, 2, 3, 4, 5, 6),\n",
              " 'launch_date': {12, 14, 28},\n",
              " 'class_time': {'web_dev': 8,\n",
              "  'Data science masters': 8,\n",
              "  'java with dsa and system design': 7}}"
            ]
          },
          "execution_count": 31,
          "metadata": {},
          "output_type": "execute_result"
        }
      ],
      "source": [
        "d6"
      ]
    },
    {
      "cell_type": "code",
      "execution_count": null,
      "id": "52447cf1-a055-4f8c-bb2f-26803d932dfd",
      "metadata": {
        "id": "52447cf1-a055-4f8c-bb2f-26803d932dfd"
      },
      "outputs": [],
      "source": [
        "d6['mentor'] = [\"sudhanshu\",\"krish\",\"anurag\" , \"hayder\"]"
      ]
    },
    {
      "cell_type": "code",
      "execution_count": null,
      "id": "8f48b7d0-7b5c-43d3-87ee-b87b5de3596f",
      "metadata": {
        "id": "8f48b7d0-7b5c-43d3-87ee-b87b5de3596f",
        "outputId": "6025b8a0-c750-4c22-fe9a-cd21d5ffc056"
      },
      "outputs": [
        {
          "data": {
            "text/plain": [
              "{'number': [2, 34, 3, 34, 34],\n",
              " 'assignment': (1, 2, 3, 4, 5, 6),\n",
              " 'launch_date': {12, 14, 28},\n",
              " 'class_time': {'web_dev': 8,\n",
              "  'Data science masters': 8,\n",
              "  'java with dsa and system design': 7},\n",
              " 'mentor': ['sudhanshu', 'krish', 'anurag', 'hayder']}"
            ]
          },
          "execution_count": 33,
          "metadata": {},
          "output_type": "execute_result"
        }
      ],
      "source": [
        "d6"
      ]
    },
    {
      "cell_type": "code",
      "execution_count": null,
      "id": "bc79fbe3-af96-4aaf-9e22-216e0967e937",
      "metadata": {
        "id": "bc79fbe3-af96-4aaf-9e22-216e0967e937"
      },
      "outputs": [],
      "source": [
        "del d6['number']"
      ]
    },
    {
      "cell_type": "code",
      "execution_count": null,
      "id": "ff209f7f-7e61-40ae-b9f2-3534c817f571",
      "metadata": {
        "id": "ff209f7f-7e61-40ae-b9f2-3534c817f571",
        "outputId": "f1dde6de-26a5-4e9c-a209-1370f674e52c"
      },
      "outputs": [
        {
          "data": {
            "text/plain": [
              "{'assignment': (1, 2, 3, 4, 5, 6),\n",
              " 'launch_date': {12, 14, 28},\n",
              " 'class_time': {'web_dev': 8,\n",
              "  'Data science masters': 8,\n",
              "  'java with dsa and system design': 7},\n",
              " 'mentor': ['sudhanshu', 'krish', 'anurag', 'hayder']}"
            ]
          },
          "execution_count": 35,
          "metadata": {},
          "output_type": "execute_result"
        }
      ],
      "source": [
        "d6"
      ]
    },
    {
      "cell_type": "code",
      "execution_count": null,
      "id": "b63cead9-5ee4-447a-a880-0f741d357d18",
      "metadata": {
        "id": "b63cead9-5ee4-447a-a880-0f741d357d18",
        "outputId": "1580f156-e1c2-48a3-c213-e603163bf704"
      },
      "outputs": [
        {
          "data": {
            "text/plain": [
              "['assignment', 'launch_date', 'class_time', 'mentor']"
            ]
          },
          "execution_count": 37,
          "metadata": {},
          "output_type": "execute_result"
        }
      ],
      "source": [
        "list(d6.keys())"
      ]
    },
    {
      "cell_type": "code",
      "execution_count": null,
      "id": "69e8cc8e-86d8-4317-9e0b-d336ee4795ce",
      "metadata": {
        "id": "69e8cc8e-86d8-4317-9e0b-d336ee4795ce",
        "outputId": "09d1e117-64fd-4b41-80d9-d516250b1005"
      },
      "outputs": [
        {
          "data": {
            "text/plain": [
              "[(1, 2, 3, 4, 5, 6),\n",
              " {12, 14, 28},\n",
              " {'web_dev': 8,\n",
              "  'Data science masters': 8,\n",
              "  'java with dsa and system design': 7},\n",
              " ['sudhanshu', 'krish', 'anurag', 'hayder']]"
            ]
          },
          "execution_count": 39,
          "metadata": {},
          "output_type": "execute_result"
        }
      ],
      "source": [
        "list(d6.values())"
      ]
    },
    {
      "cell_type": "code",
      "execution_count": null,
      "id": "c467ed3e-8e45-43a2-b3fb-b4792d6a6e86",
      "metadata": {
        "id": "c467ed3e-8e45-43a2-b3fb-b4792d6a6e86",
        "outputId": "6cd45d5e-6914-445b-8221-09f24813e7eb"
      },
      "outputs": [
        {
          "data": {
            "text/plain": [
              "[('assignment', (1, 2, 3, 4, 5, 6)),\n",
              " ('launch_date', {12, 14, 28}),\n",
              " ('class_time',\n",
              "  {'web_dev': 8,\n",
              "   'Data science masters': 8,\n",
              "   'java with dsa and system design': 7}),\n",
              " ('mentor', ['sudhanshu', 'krish', 'anurag', 'hayder'])]"
            ]
          },
          "execution_count": 41,
          "metadata": {},
          "output_type": "execute_result"
        }
      ],
      "source": [
        "list(d6.items())"
      ]
    },
    {
      "cell_type": "code",
      "execution_count": null,
      "id": "6bb5b908-b598-4e51-a301-ca7679987ff6",
      "metadata": {
        "id": "6bb5b908-b598-4e51-a301-ca7679987ff6",
        "outputId": "fec59ec1-08de-46a0-96fd-fa6e3050b1d4"
      },
      "outputs": [
        {
          "data": {
            "text/plain": [
              "(1, 2, 3, 4, 5, 6)"
            ]
          },
          "execution_count": 42,
          "metadata": {},
          "output_type": "execute_result"
        }
      ],
      "source": [
        "d6.pop('assignment')"
      ]
    },
    {
      "cell_type": "code",
      "execution_count": null,
      "id": "db1e47f4-3a3b-4ea9-9822-4245c95b913e",
      "metadata": {
        "id": "db1e47f4-3a3b-4ea9-9822-4245c95b913e",
        "outputId": "3a170a22-8a31-4091-c21d-cf246d6e098a"
      },
      "outputs": [
        {
          "data": {
            "text/plain": [
              "{'launch_date': {12, 14, 28},\n",
              " 'class_time': {'web_dev': 8,\n",
              "  'Data science masters': 8,\n",
              "  'java with dsa and system design': 7},\n",
              " 'mentor': ['sudhanshu', 'krish', 'anurag', 'hayder']}"
            ]
          },
          "execution_count": 43,
          "metadata": {},
          "output_type": "execute_result"
        }
      ],
      "source": [
        "d6"
      ]
    },
    {
      "cell_type": "code",
      "execution_count": null,
      "id": "10fdb38c-3a46-48f4-b8d1-15a72d353ce5",
      "metadata": {
        "id": "10fdb38c-3a46-48f4-b8d1-15a72d353ce5",
        "outputId": "1a693dc5-f5a3-4431-defb-fb6eb89809fc"
      },
      "outputs": [
        {
          "ename": "TypeError",
          "evalue": "pop expected at least 1 argument, got 0",
          "output_type": "error",
          "traceback": [
            "\u001b[0;31m---------------------------------------------------------------------------\u001b[0m",
            "\u001b[0;31mTypeError\u001b[0m                                 Traceback (most recent call last)",
            "Cell \u001b[0;32mIn[46], line 1\u001b[0m\n\u001b[0;32m----> 1\u001b[0m \u001b[43md6\u001b[49m\u001b[38;5;241;43m.\u001b[39;49m\u001b[43mpop\u001b[49m\u001b[43m(\u001b[49m\u001b[43m)\u001b[49m\n",
            "\u001b[0;31mTypeError\u001b[0m: pop expected at least 1 argument, got 0"
          ]
        }
      ],
      "source": [
        "d6.pop()"
      ]
    },
    {
      "cell_type": "code",
      "execution_count": null,
      "id": "f46f8e48-f159-479b-bee6-33abe93a7ebf",
      "metadata": {
        "id": "f46f8e48-f159-479b-bee6-33abe93a7ebf",
        "outputId": "86fbde5f-ed62-45fe-ccc8-ab8d78082d5b"
      },
      "outputs": [
        {
          "name": "stdin",
          "output_type": "stream",
          "text": [
            "enter your marks  90\n"
          ]
        },
        {
          "name": "stdout",
          "output_type": "stream",
          "text": [
            "you will be a part of A0 batch\n"
          ]
        }
      ],
      "source": [
        "marks = int(input(\"enter your marks \"))\n",
        "if marks >= 80:\n",
        "    print(\"you will be a part of A0 batch\")\n",
        "elif marks >= 60 and marks< 80:\n",
        "    print(\"you will be a part of A1 batch\")\n",
        "elif marks >= 40 and marks < 60 :\n",
        "    print(\"you will be a part of A2 batch \")\n",
        "else :\n",
        "    print(\"you will be a part of A3 batch \")\n",
        "    \n",
        "    "
      ]
    },
    {
      "cell_type": "code",
      "execution_count": null,
      "id": "945fa0a0-d575-4001-996b-7cb2cd8d7b0d",
      "metadata": {
        "id": "945fa0a0-d575-4001-996b-7cb2cd8d7b0d",
        "outputId": "b0825cd7-d00f-40d9-d5f6-5654013d4991"
      },
      "outputs": [
        {
          "data": {
            "text/plain": [
              "False"
            ]
          },
          "execution_count": 55,
          "metadata": {},
          "output_type": "execute_result"
        }
      ],
      "source": [
        "10 >= 80"
      ]
    },
    {
      "cell_type": "code",
      "execution_count": null,
      "id": "bcc043c7-c706-4009-b659-3d973bdebeeb",
      "metadata": {
        "id": "bcc043c7-c706-4009-b659-3d973bdebeeb",
        "outputId": "e4cdbbf5-b0a2-4451-f1b6-819ffe22ae83"
      },
      "outputs": [
        {
          "name": "stdin",
          "output_type": "stream",
          "text": [
            "enter your marks  324\n"
          ]
        }
      ],
      "source": [
        "marks = int(input(\"enter your marks \"))"
      ]
    },
    {
      "cell_type": "code",
      "execution_count": null,
      "id": "5c627e2d-6113-4255-b639-1dfba3303d47",
      "metadata": {
        "id": "5c627e2d-6113-4255-b639-1dfba3303d47",
        "outputId": "0df4ab53-e628-4898-96fb-d2cdfcf80480"
      },
      "outputs": [
        {
          "data": {
            "text/plain": [
              "324"
            ]
          },
          "execution_count": 64,
          "metadata": {},
          "output_type": "execute_result"
        }
      ],
      "source": [
        "marks"
      ]
    },
    {
      "cell_type": "code",
      "execution_count": null,
      "id": "e96d8057-64e3-4961-b26c-0b5b871bb341",
      "metadata": {
        "id": "e96d8057-64e3-4961-b26c-0b5b871bb341",
        "outputId": "d086a0ae-ee5e-4132-e12b-40b4301f4c47"
      },
      "outputs": [
        {
          "data": {
            "text/plain": [
              "int"
            ]
          },
          "execution_count": 65,
          "metadata": {},
          "output_type": "execute_result"
        }
      ],
      "source": [
        "type(marks)"
      ]
    },
    {
      "cell_type": "code",
      "execution_count": null,
      "id": "253159d0-2c21-4017-a631-dcfb58233ab9",
      "metadata": {
        "id": "253159d0-2c21-4017-a631-dcfb58233ab9",
        "outputId": "e3d64d50-4e4b-47d0-b0be-2509a6fd5e69"
      },
      "outputs": [
        {
          "name": "stdin",
          "output_type": "stream",
          "text": [
            "enter price  500\n"
          ]
        },
        {
          "name": "stdout",
          "output_type": "stream",
          "text": [
            "i will purchase\n"
          ]
        }
      ],
      "source": [
        "price = int(input(\"enter price \" ))\n",
        "if price > 1000:\n",
        "    print(\"i will not purchase\")\n",
        "else :\n",
        "    print(\"i will purchase\")"
      ]
    },
    {
      "cell_type": "code",
      "execution_count": null,
      "id": "628ed574-e92a-4b12-94f2-5cabf74e9e59",
      "metadata": {
        "id": "628ed574-e92a-4b12-94f2-5cabf74e9e59",
        "outputId": "27fe580b-35e9-47a3-dd45-e905adc286b5"
      },
      "outputs": [
        {
          "name": "stdin",
          "output_type": "stream",
          "text": [
            "enter price  600\n"
          ]
        },
        {
          "name": "stdout",
          "output_type": "stream",
          "text": [
            "i will purchase\n"
          ]
        }
      ],
      "source": [
        "price = int(input(\"enter price \" ))\n",
        "if price > 1000:\n",
        "    print(\"i will not purchase\")\n",
        "    if price >5000:\n",
        "        print(\"this is too much \")\n",
        "    elif price < 2000 : \n",
        "        print(\"its ok\")\n",
        "elif price < 1000 or price > 500 :\n",
        "    print(\"i will purchase\")\n",
        "else :\n",
        "    print(\"not interested \")"
      ]
    },
    {
      "cell_type": "code",
      "execution_count": null,
      "id": "6c51f7e7-a567-4288-89c4-9b8bf30e7498",
      "metadata": {
        "id": "6c51f7e7-a567-4288-89c4-9b8bf30e7498"
      },
      "outputs": [],
      "source": [
        "l = [1,2,3,3,4,5,6,7,8]"
      ]
    },
    {
      "cell_type": "code",
      "execution_count": null,
      "id": "8dbcc218-0212-4f51-9bf8-59f69c731ef9",
      "metadata": {
        "id": "8dbcc218-0212-4f51-9bf8-59f69c731ef9",
        "outputId": "7add4d6c-e32b-4660-cf63-f4516da85660"
      },
      "outputs": [
        {
          "data": {
            "text/plain": [
              "2"
            ]
          },
          "execution_count": 77,
          "metadata": {},
          "output_type": "execute_result"
        }
      ],
      "source": [
        "l[0] +1"
      ]
    },
    {
      "cell_type": "code",
      "execution_count": null,
      "id": "55938e22-4927-492c-8e91-f60b7871659f",
      "metadata": {
        "id": "55938e22-4927-492c-8e91-f60b7871659f"
      },
      "outputs": [],
      "source": [
        "l1 = []"
      ]
    },
    {
      "cell_type": "code",
      "execution_count": null,
      "id": "3a06be4a-d01c-46a7-98f6-edc8e45ca547",
      "metadata": {
        "id": "3a06be4a-d01c-46a7-98f6-edc8e45ca547"
      },
      "outputs": [],
      "source": [
        "l1.append(l[0] +1)"
      ]
    },
    {
      "cell_type": "code",
      "execution_count": null,
      "id": "4b4f5187-3b25-4568-a154-c42235a6b823",
      "metadata": {
        "id": "4b4f5187-3b25-4568-a154-c42235a6b823",
        "outputId": "ab6e8901-8586-4f2d-8248-e6614463572c"
      },
      "outputs": [
        {
          "data": {
            "text/plain": [
              "[2]"
            ]
          },
          "execution_count": 80,
          "metadata": {},
          "output_type": "execute_result"
        }
      ],
      "source": [
        "l1"
      ]
    },
    {
      "cell_type": "code",
      "execution_count": null,
      "id": "8d0b681b-1507-4584-b285-2714f0d7ca5f",
      "metadata": {
        "id": "8d0b681b-1507-4584-b285-2714f0d7ca5f"
      },
      "outputs": [],
      "source": [
        "l = [1,2,3,3,4,5,6,7,8]"
      ]
    },
    {
      "cell_type": "code",
      "execution_count": null,
      "id": "741834cb-b41f-4639-b591-b4d9138356b5",
      "metadata": {
        "id": "741834cb-b41f-4639-b591-b4d9138356b5",
        "outputId": "90689db2-2adc-458b-8e52-0b77bc7e5c10"
      },
      "outputs": [
        {
          "name": "stdout",
          "output_type": "stream",
          "text": [
            "2\n",
            "3\n",
            "4\n",
            "4\n",
            "5\n",
            "6\n",
            "7\n",
            "8\n",
            "9\n"
          ]
        },
        {
          "data": {
            "text/plain": [
              "[2, 3, 4, 4, 5, 6, 7, 8, 9]"
            ]
          },
          "execution_count": 119,
          "metadata": {},
          "output_type": "execute_result"
        }
      ],
      "source": [
        "l1 = []\n",
        "for i in l :\n",
        "    l1.append(i+1)\n",
        "    print(i+1)\n",
        "l1"
      ]
    },
    {
      "cell_type": "code",
      "execution_count": null,
      "id": "5ce68476-fb22-4199-abf5-82dd1ba9098b",
      "metadata": {
        "id": "5ce68476-fb22-4199-abf5-82dd1ba9098b"
      },
      "outputs": [],
      "source": []
    },
    {
      "cell_type": "code",
      "execution_count": null,
      "id": "e8321831-f0d3-491d-b7a4-b9c224cae5c9",
      "metadata": {
        "id": "e8321831-f0d3-491d-b7a4-b9c224cae5c9"
      },
      "outputs": [],
      "source": []
    },
    {
      "cell_type": "code",
      "execution_count": null,
      "id": "7f9a8af5-f494-4295-b0a0-ab868efe094c",
      "metadata": {
        "id": "7f9a8af5-f494-4295-b0a0-ab868efe094c",
        "outputId": "4b258b3e-c3d0-4064-ac18-4e6d1a1dcd84"
      },
      "outputs": [
        {
          "data": {
            "text/plain": [
              "[1, 2, 3, 3, 4, 5, 6, 7, 8]"
            ]
          },
          "execution_count": 87,
          "metadata": {},
          "output_type": "execute_result"
        }
      ],
      "source": [
        "l"
      ]
    },
    {
      "cell_type": "code",
      "execution_count": null,
      "id": "0db91fea-fa97-4115-bc50-83cdf35203bc",
      "metadata": {
        "id": "0db91fea-fa97-4115-bc50-83cdf35203bc"
      },
      "outputs": [],
      "source": [
        "l = [\"sudh\" , \"kumar\" , \"pwskills\" , \"course\"]"
      ]
    },
    {
      "cell_type": "code",
      "execution_count": null,
      "id": "01c7b1b3-05d2-4e81-9870-d2b01591f2c2",
      "metadata": {
        "id": "01c7b1b3-05d2-4e81-9870-d2b01591f2c2",
        "outputId": "7a9ca92d-83ff-41d7-ff7f-dfc86f8787ee"
      },
      "outputs": [
        {
          "name": "stdout",
          "output_type": "stream",
          "text": [
            "sudh\n",
            "kumar\n",
            "pwskills\n",
            "course\n"
          ]
        }
      ],
      "source": [
        "l1 = []\n",
        "for i in l :\n",
        "    print(i)\n",
        "    l1.append(i.upper())"
      ]
    },
    {
      "cell_type": "code",
      "execution_count": null,
      "id": "aa2f22b4-7831-477b-a522-c7715620a288",
      "metadata": {
        "id": "aa2f22b4-7831-477b-a522-c7715620a288",
        "outputId": "f4c069f8-23ee-4d0a-ea9b-ae73efb4eb58"
      },
      "outputs": [
        {
          "data": {
            "text/plain": [
              "['SUDH', 'KUMAR', 'PWSKILLS', 'COURSE']"
            ]
          },
          "execution_count": 92,
          "metadata": {},
          "output_type": "execute_result"
        }
      ],
      "source": [
        "l1"
      ]
    },
    {
      "cell_type": "code",
      "execution_count": null,
      "id": "d774bd3c-eca4-4e90-85ac-593270bcd9eb",
      "metadata": {
        "id": "d774bd3c-eca4-4e90-85ac-593270bcd9eb"
      },
      "outputs": [],
      "source": [
        "l = [1,2,3,4,4,\"sudh\" , \"kmumar\" , 324,34.456,\"abc\"]"
      ]
    },
    {
      "cell_type": "code",
      "execution_count": null,
      "id": "7f946d3f-8b87-4f90-a494-0b94e472433a",
      "metadata": {
        "id": "7f946d3f-8b87-4f90-a494-0b94e472433a"
      },
      "outputs": [],
      "source": [
        "l1_num = []\n",
        "l2_str = []\n",
        "for i in l :\n",
        "    if type(i) == int or type(i) == float :\n",
        "        l1_num.append(i)\n",
        "    else :\n",
        "        l2_str.append(i)"
      ]
    },
    {
      "cell_type": "code",
      "execution_count": null,
      "id": "78fc770b-66f2-4252-af13-0f192b55ba0f",
      "metadata": {
        "id": "78fc770b-66f2-4252-af13-0f192b55ba0f",
        "outputId": "8571e597-33ff-4f15-de3c-076dc44fd123"
      },
      "outputs": [
        {
          "data": {
            "text/plain": [
              "[1, 2, 3, 4, 4, 324, 34.456]"
            ]
          },
          "execution_count": 97,
          "metadata": {},
          "output_type": "execute_result"
        }
      ],
      "source": [
        "l1_num"
      ]
    },
    {
      "cell_type": "code",
      "execution_count": null,
      "id": "04f1e78e-5853-475d-aeb8-0d77c4cb8fb3",
      "metadata": {
        "id": "04f1e78e-5853-475d-aeb8-0d77c4cb8fb3",
        "outputId": "b8537117-b63a-43c0-e171-6a44cf861824"
      },
      "outputs": [
        {
          "data": {
            "text/plain": [
              "['sudh', 'kmumar', 'abc']"
            ]
          },
          "execution_count": 98,
          "metadata": {},
          "output_type": "execute_result"
        }
      ],
      "source": [
        "l2_str"
      ]
    },
    {
      "cell_type": "code",
      "execution_count": null,
      "id": "a5d2c83d-436d-467c-9572-c07d87f4412e",
      "metadata": {
        "id": "a5d2c83d-436d-467c-9572-c07d87f4412e"
      },
      "outputs": [],
      "source": [
        "100+ sample "
      ]
    },
    {
      "cell_type": "code",
      "execution_count": null,
      "id": "4090412b-7795-400f-9039-db9c1b263537",
      "metadata": {
        "id": "4090412b-7795-400f-9039-db9c1b263537"
      },
      "outputs": [],
      "source": [
        "[] - list\n",
        "() - tuple\n",
        "{} - with flat element set \n",
        "{} - with key value pair dict"
      ]
    },
    {
      "cell_type": "code",
      "execution_count": null,
      "id": "e17558c2-fdde-42ff-913d-69bcf6b71a04",
      "metadata": {
        "id": "e17558c2-fdde-42ff-913d-69bcf6b71a04"
      },
      "outputs": [],
      "source": [
        "t = (True,4,5,6)"
      ]
    },
    {
      "cell_type": "code",
      "execution_count": null,
      "id": "a6318b84-6018-49ae-b870-60ab797cc7aa",
      "metadata": {
        "id": "a6318b84-6018-49ae-b870-60ab797cc7aa",
        "outputId": "a1461361-5a4d-4313-ae13-8a8a2106c572"
      },
      "outputs": [
        {
          "data": {
            "text/plain": [
              "4"
            ]
          },
          "execution_count": 108,
          "metadata": {},
          "output_type": "execute_result"
        }
      ],
      "source": [
        "len(t)"
      ]
    },
    {
      "cell_type": "code",
      "execution_count": null,
      "id": "29862dc8-78da-427b-85ca-4d2d25bb0084",
      "metadata": {
        "id": "29862dc8-78da-427b-85ca-4d2d25bb0084",
        "outputId": "c6c495dc-8411-4567-f2b9-4e0be5459bc5"
      },
      "outputs": [
        {
          "data": {
            "text/plain": [
              "1"
            ]
          },
          "execution_count": 109,
          "metadata": {},
          "output_type": "execute_result"
        }
      ],
      "source": [
        "t.count(True)"
      ]
    },
    {
      "cell_type": "code",
      "execution_count": null,
      "id": "d9d9be92-0644-4fa8-af68-afa75cb832b0",
      "metadata": {
        "id": "d9d9be92-0644-4fa8-af68-afa75cb832b0"
      },
      "outputs": [],
      "source": [
        "s2 = (1,4,7.7,\"class\",True)"
      ]
    },
    {
      "cell_type": "code",
      "execution_count": null,
      "id": "1bf37dd0-1a83-42fa-8445-b840cfa7e2e9",
      "metadata": {
        "id": "1bf37dd0-1a83-42fa-8445-b840cfa7e2e9",
        "outputId": "81069463-90a8-4794-9662-d74eff5b5f25"
      },
      "outputs": [
        {
          "data": {
            "text/plain": [
              "2"
            ]
          },
          "execution_count": 111,
          "metadata": {},
          "output_type": "execute_result"
        }
      ],
      "source": [
        "s2.count(True)"
      ]
    },
    {
      "cell_type": "code",
      "execution_count": null,
      "id": "7deefa81-55f7-4da0-b923-d773a8612431",
      "metadata": {
        "id": "7deefa81-55f7-4da0-b923-d773a8612431",
        "outputId": "927506e2-f494-4030-b74d-cbee7e221c40"
      },
      "outputs": [
        {
          "name": "stdout",
          "output_type": "stream",
          "text": [
            "you will be part of A1 batch\n"
          ]
        }
      ],
      "source": [
        "marks = 67\n",
        "if marks >= 80 :\n",
        "    print(\"you will be part of A0 batch\")\n",
        "elif marks >= 60 and marks < 80 :\n",
        "    print(\"you will be part of A1 batch\")\n",
        "elif marks >= 40 and marks < 60 :\n",
        "    print(\"you will be part of A2 batch\")\n",
        "else :\n",
        "    print(\"you will be part of A3 batch\")\n"
      ]
    },
    {
      "cell_type": "code",
      "execution_count": null,
      "id": "ec78cd90-1f3a-4f63-b91d-9fced7d3fdd1",
      "metadata": {
        "id": "ec78cd90-1f3a-4f63-b91d-9fced7d3fdd1",
        "outputId": "fb608e42-8077-4667-eb91-914d19d742ee"
      },
      "outputs": [
        {
          "name": "stdout",
          "output_type": "stream",
          "text": [
            "you will be a part of A1 batch\n"
          ]
        }
      ],
      "source": [
        "marks = 70\n",
        "if marks >= 80 :\n",
        "    print(\"you will be a part of A0 batch\")\n",
        "if marks >= 60 and  marks <80 :\n",
        "    print(\"you will be a part of A1 batch\")\n",
        "elif marks >= 40 and marks < 60 :\n",
        "    print(\"you will be a part of A2 batch\")\n",
        "else :\n",
        "    print(\"you will be a part of A3 batch\")\n"
      ]
    },
    {
      "cell_type": "markdown",
      "id": "08a9c3a9-f48e-49f0-ac07-45fddbda9e80",
      "metadata": {
        "id": "08a9c3a9-f48e-49f0-ac07-45fddbda9e80"
      },
      "source": [
        "\n",
        "sdfas ff fsdfas dasdfasdf asdasdfasdf as\n",
        "asdfas\n",
        "fasd\n",
        "fs\n",
        "f\n",
        "asf\n",
        "asdf\n",
        "asdf\n",
        "asdf\n",
        "sdf\n",
        "asdf\n",
        "sf\n",
        "sdf\n",
        "asf\n",
        "sd\n",
        "fasd\n",
        "fasd"
      ]
    },
    {
      "cell_type": "code",
      "execution_count": null,
      "id": "0e743998-133d-4712-8ee0-577f32fc775b",
      "metadata": {
        "id": "0e743998-133d-4712-8ee0-577f32fc775b",
        "outputId": "e2a4c95c-b91c-43f4-d845-922a417dacdd"
      },
      "outputs": [
        {
          "name": "stdout",
          "output_type": "stream",
          "text": [
            "you will be part of A1 batch\n"
          ]
        }
      ],
      "source": [
        "marks = int(input(\"enter your marks\"))\n",
        "\n",
        "if marks > 100 :\n",
        "    print(\"this is not a valid marks )\n",
        "else : \n",
        "    if marks >= 80 :\n",
        "        print(\"you will be part of A0 batch\") \n",
        "    elif marks >= 60 and marks < 80 :\n",
        "        print(\"you will be part of A1 batch\")\n",
        "    elif marks >= 40 and marks < 60 :\n",
        "        print(\"you will be part of A2 batch\")\n",
        "    else :\n",
        "        print(\"you will be part of A3 batch\")\n"
      ]
    },
    {
      "cell_type": "code",
      "execution_count": null,
      "id": "efb92cf4-7ff7-42d1-ab73-647626c5e388",
      "metadata": {
        "id": "efb92cf4-7ff7-42d1-ab73-647626c5e388"
      },
      "outputs": [],
      "source": [
        "s = \"munna\""
      ]
    },
    {
      "cell_type": "code",
      "execution_count": null,
      "id": "4c19496b-5175-40cf-81dc-61090b335ad8",
      "metadata": {
        "id": "4c19496b-5175-40cf-81dc-61090b335ad8",
        "outputId": "f7ec2db6-12e9-42c1-f719-ba579015fcb5"
      },
      "outputs": [
        {
          "ename": "TypeError",
          "evalue": "'str' object does not support item assignment",
          "output_type": "error",
          "traceback": [
            "\u001b[0;31m---------------------------------------------------------------------------\u001b[0m",
            "\u001b[0;31mTypeError\u001b[0m                                 Traceback (most recent call last)",
            "Cell \u001b[0;32mIn[125], line 1\u001b[0m\n\u001b[0;32m----> 1\u001b[0m \u001b[43ms\u001b[49m\u001b[43m[\u001b[49m\u001b[38;5;241;43m0\u001b[39;49m\u001b[43m]\u001b[49m \u001b[38;5;241m=\u001b[39m \u001b[38;5;241m1\u001b[39m\n",
            "\u001b[0;31mTypeError\u001b[0m: 'str' object does not support item assignment"
          ]
        }
      ],
      "source": [
        "s[0] = 1"
      ]
    },
    {
      "cell_type": "code",
      "execution_count": null,
      "id": "383c0c71-48e1-4387-b8d2-c0965fdce21e",
      "metadata": {
        "id": "383c0c71-48e1-4387-b8d2-c0965fdce21e"
      },
      "outputs": [],
      "source": [
        "l = [1,2,3,45]"
      ]
    },
    {
      "cell_type": "code",
      "execution_count": null,
      "id": "3208c292-c838-46f7-bdf4-93305ef21905",
      "metadata": {
        "id": "3208c292-c838-46f7-bdf4-93305ef21905"
      },
      "outputs": [],
      "source": [
        "l[0] = 100"
      ]
    },
    {
      "cell_type": "code",
      "execution_count": null,
      "id": "189949a7-c977-4d6d-b7fd-c14d45badd57",
      "metadata": {
        "id": "189949a7-c977-4d6d-b7fd-c14d45badd57",
        "outputId": "c430ea64-b265-43c2-ae51-922b90de093e"
      },
      "outputs": [
        {
          "data": {
            "text/plain": [
              "[100, 2, 3, 45]"
            ]
          },
          "execution_count": 129,
          "metadata": {},
          "output_type": "execute_result"
        }
      ],
      "source": [
        "l"
      ]
    },
    {
      "cell_type": "code",
      "execution_count": null,
      "id": "ccf66083-4c88-4aaa-850b-135a52bd4b64",
      "metadata": {
        "id": "ccf66083-4c88-4aaa-850b-135a52bd4b64",
        "outputId": "d46acd83-f1c1-458d-d019-4d945d05aae9"
      },
      "outputs": [
        {
          "name": "stdout",
          "output_type": "stream",
          "text": [
            "101\n",
            "3\n",
            "4\n",
            "46\n"
          ]
        },
        {
          "data": {
            "text/plain": [
              "[101, 3, 4, 46]"
            ]
          },
          "execution_count": 131,
          "metadata": {},
          "output_type": "execute_result"
        }
      ],
      "source": [
        "l2 = []\n",
        "for i in l :\n",
        "    l2.append(i+1)\n",
        "    print(i+1)\n",
        "l2"
      ]
    },
    {
      "cell_type": "code",
      "execution_count": null,
      "id": "91732a5b-3181-4d7e-b628-8bbdf2773797",
      "metadata": {
        "id": "91732a5b-3181-4d7e-b628-8bbdf2773797",
        "outputId": "7e2e287e-c1e2-4ea2-8136-39a94d937778"
      },
      "outputs": [
        {
          "name": "stdout",
          "output_type": "stream",
          "text": [
            "3\n",
            "4\n",
            "5\n",
            "5\n",
            "6\n",
            "7\n",
            "8\n",
            "9\n",
            "10\n"
          ]
        },
        {
          "data": {
            "text/plain": [
              "[3, 4, 5, 5, 6, 7, 8, 9, 10]"
            ]
          },
          "execution_count": 132,
          "metadata": {},
          "output_type": "execute_result"
        }
      ],
      "source": [
        "l2 = []\n",
        "for i in l1 :\n",
        "    l2.append(i+1)\n",
        "    print(i+1)\n",
        "l2"
      ]
    },
    {
      "cell_type": "code",
      "execution_count": null,
      "id": "6cebbed4-87aa-409a-9c46-065900fd4d8a",
      "metadata": {
        "id": "6cebbed4-87aa-409a-9c46-065900fd4d8a",
        "outputId": "4e48c7a1-a168-48d6-fd86-c3fa0d57f564"
      },
      "outputs": [
        {
          "name": "stdout",
          "output_type": "stream",
          "text": [
            "a\n",
            "k\n",
            "s\n",
            "h\n",
            "a\n",
            "t\n"
          ]
        }
      ],
      "source": [
        "for ak in \"akshat\": \n",
        "    print(ak)\n"
      ]
    },
    {
      "cell_type": "code",
      "execution_count": null,
      "id": "699c6b0f-a456-4ca7-8112-1a70ff98d1f6",
      "metadata": {
        "id": "699c6b0f-a456-4ca7-8112-1a70ff98d1f6",
        "outputId": "3c383c6e-e9e8-4c81-ad50-ee8120655e9f"
      },
      "outputs": [
        {
          "name": "stdout",
          "output_type": "stream",
          "text": [
            "keys :  ['a', 'b', 'c']\n",
            "values :  ['akshat', 'bhuvan', 'chandan']\n"
          ]
        }
      ],
      "source": [
        "dict1 = {'a': 'akshat', 'b': 'bhuvan', 'c': 'chandan'}\n",
        " \n",
        "keys = []\n",
        "values = []\n",
        "for item in dict1.items():\n",
        "    keys.append(item[0]), values.append(item[1])\n",
        "\n",
        "print(\"keys : \", keys)\n",
        "print(\"values : \", values)\n"
      ]
    },
    {
      "cell_type": "code",
      "execution_count": null,
      "id": "e69cdafe-3c7c-49e4-87fd-4ccce33355fd",
      "metadata": {
        "id": "e69cdafe-3c7c-49e4-87fd-4ccce33355fd",
        "outputId": "dc5b341a-890d-4974-dee0-ca483999c2fe"
      },
      "outputs": [
        {
          "data": {
            "text/plain": [
              "{'launch_date': {12, 14, 28},\n",
              " 'class_time': {'web_dev': 8,\n",
              "  'Data science masters': 8,\n",
              "  'java with dsa and system design': 7},\n",
              " 'mentor': ['sudhanshu', 'krish', 'anurag', 'hayder']}"
            ]
          },
          "execution_count": 136,
          "metadata": {},
          "output_type": "execute_result"
        }
      ],
      "source": [
        "d6"
      ]
    },
    {
      "cell_type": "code",
      "execution_count": null,
      "id": "e7e1d0ea-4a6d-4f2f-8b85-e00d55113118",
      "metadata": {
        "id": "e7e1d0ea-4a6d-4f2f-8b85-e00d55113118",
        "outputId": "c8adbcb1-ea70-4776-a297-ab891f1b2a68"
      },
      "outputs": [
        {
          "data": {
            "text/plain": [
              "{3: None, 4: None, 5: None, 6: None}"
            ]
          },
          "execution_count": 137,
          "metadata": {},
          "output_type": "execute_result"
        }
      ],
      "source": [
        "d6.fromkeys([3,4,5,6])"
      ]
    },
    {
      "cell_type": "code",
      "execution_count": null,
      "id": "265274f4-afa6-4c68-bff1-edb6736fc4c1",
      "metadata": {
        "id": "265274f4-afa6-4c68-bff1-edb6736fc4c1"
      },
      "outputs": [],
      "source": []
    }
  ],
  "metadata": {
    "kernelspec": {
      "display_name": "Python 3 (ipykernel)",
      "language": "python",
      "name": "python3"
    },
    "language_info": {
      "codemirror_mode": {
        "name": "ipython",
        "version": 3
      },
      "file_extension": ".py",
      "mimetype": "text/x-python",
      "name": "python",
      "nbconvert_exporter": "python",
      "pygments_lexer": "ipython3",
      "version": "3.10.8"
    },
    "colab": {
      "provenance": []
    }
  },
  "nbformat": 4,
  "nbformat_minor": 5
}