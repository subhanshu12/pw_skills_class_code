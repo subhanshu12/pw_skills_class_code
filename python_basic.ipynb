{
  "cells": [
    {
      "cell_type": "code",
      "execution_count": null,
      "id": "b53f697d-0d83-400b-9408-df252fd56291",
      "metadata": {
        "id": "b53f697d-0d83-400b-9408-df252fd56291",
        "outputId": "763f249a-3768-4b03-ed30-2d9162286490"
      },
      "outputs": [
        {
          "data": {
            "text/plain": [
              "2"
            ]
          },
          "execution_count": 7,
          "metadata": {},
          "output_type": "execute_result"
        }
      ],
      "source": [
        "1+1"
      ]
    },
    {
      "cell_type": "code",
      "execution_count": null,
      "id": "fbcdd846-36d0-4aad-ba66-9031c2efd063",
      "metadata": {
        "id": "fbcdd846-36d0-4aad-ba66-9031c2efd063",
        "outputId": "ba9c2409-1b76-4018-fd7c-41aa09f0ee7b"
      },
      "outputs": [
        {
          "data": {
            "text/plain": [
              "25"
            ]
          },
          "execution_count": 9,
          "metadata": {},
          "output_type": "execute_result"
        }
      ],
      "source": [
        "5*5"
      ]
    },
    {
      "cell_type": "code",
      "execution_count": null,
      "id": "45077ab3-fb8a-475f-849b-955261391dc1",
      "metadata": {
        "id": "45077ab3-fb8a-475f-849b-955261391dc1"
      },
      "outputs": [],
      "source": [
        "a = 10"
      ]
    },
    {
      "cell_type": "code",
      "execution_count": null,
      "id": "d1bbbdb3-2327-4335-b1a0-a8265fde5158",
      "metadata": {
        "id": "d1bbbdb3-2327-4335-b1a0-a8265fde5158",
        "outputId": "9c45ca7f-6a7d-4f6b-eb72-12fb3351ff95"
      },
      "outputs": [
        {
          "data": {
            "text/plain": [
              "10"
            ]
          },
          "execution_count": 11,
          "metadata": {},
          "output_type": "execute_result"
        }
      ],
      "source": [
        "a"
      ]
    },
    {
      "cell_type": "code",
      "execution_count": null,
      "id": "e62660ad-7b0d-4331-a962-9c99975a81bb",
      "metadata": {
        "id": "e62660ad-7b0d-4331-a962-9c99975a81bb",
        "outputId": "fa2b5ea9-0f6f-4ce4-a1dd-71b258ce1f73"
      },
      "outputs": [
        {
          "data": {
            "text/plain": [
              "10"
            ]
          },
          "execution_count": 12,
          "metadata": {},
          "output_type": "execute_result"
        }
      ],
      "source": [
        "a"
      ]
    },
    {
      "cell_type": "code",
      "execution_count": null,
      "id": "5b4ce608-426c-4ee4-a8b6-3720b63dfb70",
      "metadata": {
        "id": "5b4ce608-426c-4ee4-a8b6-3720b63dfb70"
      },
      "outputs": [],
      "source": [
        "sudh = 20"
      ]
    },
    {
      "cell_type": "code",
      "execution_count": null,
      "id": "da1a0da9-1c76-4229-8a04-25acd8c58735",
      "metadata": {
        "id": "da1a0da9-1c76-4229-8a04-25acd8c58735",
        "outputId": "e66e1103-8af5-4ac3-92e1-28ffb59c5e82"
      },
      "outputs": [
        {
          "data": {
            "text/plain": [
              "20"
            ]
          },
          "execution_count": 14,
          "metadata": {},
          "output_type": "execute_result"
        }
      ],
      "source": [
        "sudh"
      ]
    },
    {
      "cell_type": "code",
      "execution_count": null,
      "id": "b954a05e-9196-4815-8aa0-25090a1c479f",
      "metadata": {
        "id": "b954a05e-9196-4815-8aa0-25090a1c479f",
        "outputId": "e598693c-a29c-4e86-a181-b06659965864"
      },
      "outputs": [
        {
          "data": {
            "text/plain": [
              "30"
            ]
          },
          "execution_count": 15,
          "metadata": {},
          "output_type": "execute_result"
        }
      ],
      "source": [
        "a+sudh"
      ]
    },
    {
      "cell_type": "code",
      "execution_count": null,
      "id": "da50468a-8756-4d12-991d-3e040f5e2cd1",
      "metadata": {
        "id": "da50468a-8756-4d12-991d-3e040f5e2cd1",
        "outputId": "927edba6-d6b2-415e-d29f-74d4efbe4c6a"
      },
      "outputs": [
        {
          "data": {
            "text/plain": [
              "int"
            ]
          },
          "execution_count": 16,
          "metadata": {},
          "output_type": "execute_result"
        }
      ],
      "source": [
        "type(a)"
      ]
    },
    {
      "cell_type": "code",
      "execution_count": null,
      "id": "68c2a664-dae5-48fa-bfbb-7de14e9c5a0b",
      "metadata": {
        "id": "68c2a664-dae5-48fa-bfbb-7de14e9c5a0b",
        "outputId": "7a5aae61-b798-4cd5-93fb-94fbed9e4504"
      },
      "outputs": [
        {
          "data": {
            "text/plain": [
              "int"
            ]
          },
          "execution_count": 20,
          "metadata": {},
          "output_type": "execute_result"
        }
      ],
      "source": [
        "type(sudh)"
      ]
    },
    {
      "cell_type": "code",
      "execution_count": null,
      "id": "eb125b6a-55e4-418d-a5e6-001fa1fd9f9f",
      "metadata": {
        "id": "eb125b6a-55e4-418d-a5e6-001fa1fd9f9f"
      },
      "outputs": [],
      "source": [
        "b = 2.09"
      ]
    },
    {
      "cell_type": "code",
      "execution_count": null,
      "id": "6b056dd8-8900-4a2f-8a53-22cd538b337e",
      "metadata": {
        "id": "6b056dd8-8900-4a2f-8a53-22cd538b337e",
        "outputId": "697921eb-b88d-49aa-bd2e-c48e1ed71052"
      },
      "outputs": [
        {
          "data": {
            "text/plain": [
              "float"
            ]
          },
          "execution_count": 22,
          "metadata": {},
          "output_type": "execute_result"
        }
      ],
      "source": [
        "type(b)"
      ]
    },
    {
      "cell_type": "code",
      "execution_count": null,
      "id": "c25d2085-189c-4987-8964-f73e309d5156",
      "metadata": {
        "id": "c25d2085-189c-4987-8964-f73e309d5156"
      },
      "outputs": [],
      "source": [
        "c = 45.23345"
      ]
    },
    {
      "cell_type": "code",
      "execution_count": null,
      "id": "85a0f6d7-27ea-4029-b34c-f7550489ebaf",
      "metadata": {
        "id": "85a0f6d7-27ea-4029-b34c-f7550489ebaf",
        "outputId": "ca8de92c-83a1-4c58-9fbd-0f90b7994662"
      },
      "outputs": [
        {
          "data": {
            "text/plain": [
              "float"
            ]
          },
          "execution_count": 24,
          "metadata": {},
          "output_type": "execute_result"
        }
      ],
      "source": [
        "type(c)"
      ]
    },
    {
      "cell_type": "code",
      "execution_count": null,
      "id": "4b947bc9-a94b-404b-8d7e-114c523d9e7f",
      "metadata": {
        "id": "4b947bc9-a94b-404b-8d7e-114c523d9e7f"
      },
      "outputs": [],
      "source": [
        "d = \"sudhanshu\""
      ]
    },
    {
      "cell_type": "code",
      "execution_count": null,
      "id": "94b9ddc3-7099-4cb7-b509-b23653baf4d4",
      "metadata": {
        "id": "94b9ddc3-7099-4cb7-b509-b23653baf4d4",
        "outputId": "f0d08e8b-ff2b-43d3-d872-c23c8829a7ea"
      },
      "outputs": [
        {
          "data": {
            "text/plain": [
              "str"
            ]
          },
          "execution_count": 26,
          "metadata": {},
          "output_type": "execute_result"
        }
      ],
      "source": [
        "type(d)"
      ]
    },
    {
      "cell_type": "code",
      "execution_count": null,
      "id": "91e83bc6-c387-48cd-92fb-14b9c4808fb4",
      "metadata": {
        "id": "91e83bc6-c387-48cd-92fb-14b9c4808fb4"
      },
      "outputs": [],
      "source": [
        "e = 'this is my first tech class'"
      ]
    },
    {
      "cell_type": "code",
      "execution_count": null,
      "id": "5d403197-4fde-478d-8977-ae91ecdec4b6",
      "metadata": {
        "id": "5d403197-4fde-478d-8977-ae91ecdec4b6",
        "outputId": "b74670fa-4ce5-452f-c955-dfd5c67c158a"
      },
      "outputs": [
        {
          "data": {
            "text/plain": [
              "str"
            ]
          },
          "execution_count": 32,
          "metadata": {},
          "output_type": "execute_result"
        }
      ],
      "source": [
        "type(e)"
      ]
    },
    {
      "cell_type": "code",
      "execution_count": null,
      "id": "0cc73f08-4bde-4847-8c16-e975b1e05aaa",
      "metadata": {
        "id": "0cc73f08-4bde-4847-8c16-e975b1e05aaa"
      },
      "outputs": [],
      "source": [
        "n = True"
      ]
    },
    {
      "cell_type": "code",
      "execution_count": null,
      "id": "1f85263d-1b17-4493-a3d5-64902404114f",
      "metadata": {
        "id": "1f85263d-1b17-4493-a3d5-64902404114f",
        "outputId": "79cfb28a-5e85-4dda-95e3-d3d89559e099"
      },
      "outputs": [
        {
          "data": {
            "text/plain": [
              "bool"
            ]
          },
          "execution_count": 34,
          "metadata": {},
          "output_type": "execute_result"
        }
      ],
      "source": [
        "type(n)"
      ]
    },
    {
      "cell_type": "code",
      "execution_count": null,
      "id": "18ac286b-3805-436b-826b-59a306db3888",
      "metadata": {
        "id": "18ac286b-3805-436b-826b-59a306db3888"
      },
      "outputs": [],
      "source": [
        "m = False"
      ]
    },
    {
      "cell_type": "code",
      "execution_count": null,
      "id": "4e053485-bbd4-4418-bd5d-3a1e4d3bc2c9",
      "metadata": {
        "id": "4e053485-bbd4-4418-bd5d-3a1e4d3bc2c9",
        "outputId": "24d446c3-a280-49da-beb0-2c8e7eee850e"
      },
      "outputs": [
        {
          "data": {
            "text/plain": [
              "bool"
            ]
          },
          "execution_count": 36,
          "metadata": {},
          "output_type": "execute_result"
        }
      ],
      "source": [
        "type(m)"
      ]
    },
    {
      "cell_type": "code",
      "execution_count": null,
      "id": "3ea329d7-88eb-4e79-a164-a4371cf6e972",
      "metadata": {
        "id": "3ea329d7-88eb-4e79-a164-a4371cf6e972",
        "outputId": "03e1be65-e81f-4a7c-88b9-fd74e34d997c"
      },
      "outputs": [
        {
          "data": {
            "text/plain": [
              "1"
            ]
          },
          "execution_count": 37,
          "metadata": {},
          "output_type": "execute_result"
        }
      ],
      "source": [
        "n+m"
      ]
    },
    {
      "cell_type": "code",
      "execution_count": null,
      "id": "5a416539-a876-4821-8d04-5a5d20f14690",
      "metadata": {
        "id": "5a416539-a876-4821-8d04-5a5d20f14690",
        "outputId": "786fcadf-16dc-4592-9d6a-613b5c2ecda2"
      },
      "outputs": [
        {
          "data": {
            "text/plain": [
              "1"
            ]
          },
          "execution_count": 38,
          "metadata": {},
          "output_type": "execute_result"
        }
      ],
      "source": [
        "True * True"
      ]
    },
    {
      "cell_type": "code",
      "execution_count": null,
      "id": "21997906-ef07-441b-aac9-965b6bef643f",
      "metadata": {
        "id": "21997906-ef07-441b-aac9-965b6bef643f",
        "outputId": "def92dda-5a13-4bfc-c7cc-acc69d82e069"
      },
      "outputs": [
        {
          "data": {
            "text/plain": [
              "0"
            ]
          },
          "execution_count": 39,
          "metadata": {},
          "output_type": "execute_result"
        }
      ],
      "source": [
        "True * False"
      ]
    },
    {
      "cell_type": "code",
      "execution_count": null,
      "id": "6db21975-3ace-4ec2-89d4-e7f68081b19b",
      "metadata": {
        "id": "6db21975-3ace-4ec2-89d4-e7f68081b19b",
        "outputId": "322873dc-518d-4e76-a26e-6eefa6d9ed58"
      },
      "outputs": [
        {
          "ename": "ZeroDivisionError",
          "evalue": "division by zero",
          "output_type": "error",
          "traceback": [
            "\u001b[0;31m---------------------------------------------------------------------------\u001b[0m",
            "\u001b[0;31mZeroDivisionError\u001b[0m                         Traceback (most recent call last)",
            "Cell \u001b[0;32mIn[40], line 1\u001b[0m\n\u001b[0;32m----> 1\u001b[0m \u001b[38;5;28;43;01mTrue\u001b[39;49;00m\u001b[43m \u001b[49m\u001b[38;5;241;43m/\u001b[39;49m\u001b[43m \u001b[49m\u001b[38;5;28;43;01mFalse\u001b[39;49;00m \n",
            "\u001b[0;31mZeroDivisionError\u001b[0m: division by zero"
          ]
        }
      ],
      "source": [
        "True / False "
      ]
    },
    {
      "cell_type": "code",
      "execution_count": null,
      "id": "8084a6ad-ee8c-4689-be01-ef3964e9038c",
      "metadata": {
        "id": "8084a6ad-ee8c-4689-be01-ef3964e9038c",
        "outputId": "93c8e037-e2ec-4dde-e36d-353bc5f50537"
      },
      "outputs": [
        {
          "ename": "ZeroDivisionError",
          "evalue": "division by zero",
          "output_type": "error",
          "traceback": [
            "\u001b[0;31m---------------------------------------------------------------------------\u001b[0m",
            "\u001b[0;31mZeroDivisionError\u001b[0m                         Traceback (most recent call last)",
            "Cell \u001b[0;32mIn[41], line 1\u001b[0m\n\u001b[0;32m----> 1\u001b[0m \u001b[38;5;241;43m1\u001b[39;49m\u001b[43m \u001b[49m\u001b[38;5;241;43m/\u001b[39;49m\u001b[38;5;241;43m0\u001b[39;49m\n",
            "\u001b[0;31mZeroDivisionError\u001b[0m: division by zero"
          ]
        }
      ],
      "source": [
        "1 /0"
      ]
    },
    {
      "cell_type": "code",
      "execution_count": null,
      "id": "237cde5b-cc21-4f20-95f0-70684dbc6137",
      "metadata": {
        "id": "237cde5b-cc21-4f20-95f0-70684dbc6137"
      },
      "outputs": [],
      "source": [
        "sudh = 5 + 8j"
      ]
    },
    {
      "cell_type": "code",
      "execution_count": null,
      "id": "7fd576ce-a98d-4653-afee-ad7cf9912f30",
      "metadata": {
        "id": "7fd576ce-a98d-4653-afee-ad7cf9912f30",
        "outputId": "bf40d217-a4b1-469e-97d3-5b78d245326d"
      },
      "outputs": [
        {
          "data": {
            "text/plain": [
              "complex"
            ]
          },
          "execution_count": 52,
          "metadata": {},
          "output_type": "execute_result"
        }
      ],
      "source": [
        "type(v)"
      ]
    },
    {
      "cell_type": "code",
      "execution_count": null,
      "id": "fee76e3e-7d36-4f8c-bded-d7d941d2cfd4",
      "metadata": {
        "id": "fee76e3e-7d36-4f8c-bded-d7d941d2cfd4",
        "outputId": "6ea29824-12d3-41e6-fad3-f6673c59cf87"
      },
      "outputs": [
        {
          "data": {
            "text/plain": [
              "5.0"
            ]
          },
          "execution_count": 54,
          "metadata": {},
          "output_type": "execute_result"
        }
      ],
      "source": [
        "sudh.real"
      ]
    },
    {
      "cell_type": "code",
      "execution_count": null,
      "id": "117c2b3f-0114-482b-9d5b-cfda32089672",
      "metadata": {
        "id": "117c2b3f-0114-482b-9d5b-cfda32089672",
        "outputId": "16a812c3-8f0e-45d9-965c-44f46c66cb10"
      },
      "outputs": [
        {
          "data": {
            "text/plain": [
              "8.0"
            ]
          },
          "execution_count": 55,
          "metadata": {},
          "output_type": "execute_result"
        }
      ],
      "source": [
        "sudh.imag"
      ]
    },
    {
      "cell_type": "code",
      "execution_count": null,
      "id": "172be6f1-51fc-4f7c-91b1-2e0c6046af35",
      "metadata": {
        "id": "172be6f1-51fc-4f7c-91b1-2e0c6046af35",
        "outputId": "7de5f2c0-e933-462e-e4b0-2f06bffd2062"
      },
      "outputs": [
        {
          "data": {
            "text/plain": [
              "(5+8j)"
            ]
          },
          "execution_count": 56,
          "metadata": {},
          "output_type": "execute_result"
        }
      ],
      "source": [
        "sudh"
      ]
    },
    {
      "cell_type": "code",
      "execution_count": null,
      "id": "21de426d-f6fa-44bf-b292-7ed62b6dcda7",
      "metadata": {
        "id": "21de426d-f6fa-44bf-b292-7ed62b6dcda7",
        "outputId": "157d4cec-c02d-4242-dd27-8fde8a9d61cb"
      },
      "outputs": [
        {
          "name": "stdout",
          "output_type": "stream",
          "text": [
            "my name is sudhanshu\n"
          ]
        }
      ],
      "source": [
        "print(\"my name is sudhanshu\")"
      ]
    },
    {
      "cell_type": "code",
      "execution_count": null,
      "id": "b82caaeb-f0d7-48f3-9782-d3e8b583df04",
      "metadata": {
        "id": "b82caaeb-f0d7-48f3-9782-d3e8b583df04",
        "outputId": "adc141c6-342c-47de-e67e-25f2d3e7d993"
      },
      "outputs": [
        {
          "name": "stdout",
          "output_type": "stream",
          "text": [
            "10\n"
          ]
        }
      ],
      "source": [
        "print(a)"
      ]
    },
    {
      "cell_type": "code",
      "execution_count": null,
      "id": "bb779fb6-a661-44b7-9e0d-7796f273eebd",
      "metadata": {
        "id": "bb779fb6-a661-44b7-9e0d-7796f273eebd",
        "outputId": "8a18a70d-9602-4a1d-ca82-166bdfe95417"
      },
      "outputs": [
        {
          "name": "stdout",
          "output_type": "stream",
          "text": [
            "(5+8j)\n"
          ]
        }
      ],
      "source": [
        "print(sudh)"
      ]
    },
    {
      "cell_type": "code",
      "execution_count": null,
      "id": "f3465387-b4f1-44d1-a17b-19788bd36482",
      "metadata": {
        "id": "f3465387-b4f1-44d1-a17b-19788bd36482"
      },
      "outputs": [],
      "source": [
        "s = \"pwskills\""
      ]
    },
    {
      "cell_type": "code",
      "execution_count": null,
      "id": "7896a834-d38f-44bb-8352-8bdb7c28458b",
      "metadata": {
        "id": "7896a834-d38f-44bb-8352-8bdb7c28458b",
        "outputId": "1453f4f5-9de8-4ac8-d421-f082cabba0e7"
      },
      "outputs": [
        {
          "data": {
            "text/plain": [
              "str"
            ]
          },
          "execution_count": 63,
          "metadata": {},
          "output_type": "execute_result"
        }
      ],
      "source": [
        "type(s)"
      ]
    },
    {
      "cell_type": "code",
      "execution_count": null,
      "id": "bffb0dcd-db77-42c6-afc5-12381457aade",
      "metadata": {
        "id": "bffb0dcd-db77-42c6-afc5-12381457aade",
        "outputId": "278b4562-0301-4f4a-abc2-2b76a118c5c8"
      },
      "outputs": [
        {
          "data": {
            "text/plain": [
              "'p'"
            ]
          },
          "execution_count": 64,
          "metadata": {},
          "output_type": "execute_result"
        }
      ],
      "source": [
        "s[0]"
      ]
    },
    {
      "cell_type": "code",
      "execution_count": null,
      "id": "9ebf78f3-8b05-47e7-b5c7-e2a5ec5c796c",
      "metadata": {
        "id": "9ebf78f3-8b05-47e7-b5c7-e2a5ec5c796c",
        "outputId": "20011971-2ceb-42fb-b6b9-a67ee9acf6a1"
      },
      "outputs": [
        {
          "data": {
            "text/plain": [
              "'s'"
            ]
          },
          "execution_count": 65,
          "metadata": {},
          "output_type": "execute_result"
        }
      ],
      "source": [
        "s[2]"
      ]
    },
    {
      "cell_type": "code",
      "execution_count": null,
      "id": "b6d9d76f-bfd6-4339-9553-63f8b488289c",
      "metadata": {
        "id": "b6d9d76f-bfd6-4339-9553-63f8b488289c",
        "outputId": "8bb574bc-883b-4c68-f259-3cbb187e9ad2"
      },
      "outputs": [
        {
          "data": {
            "text/plain": [
              "'k'"
            ]
          },
          "execution_count": 66,
          "metadata": {},
          "output_type": "execute_result"
        }
      ],
      "source": [
        "s[3]"
      ]
    },
    {
      "cell_type": "code",
      "execution_count": null,
      "id": "16782a4b-94bd-41aa-b4c8-99a8ab88ac06",
      "metadata": {
        "id": "16782a4b-94bd-41aa-b4c8-99a8ab88ac06",
        "outputId": "e367e1f8-f2c0-4362-d619-32108f858cd0"
      },
      "outputs": [
        {
          "data": {
            "text/plain": [
              "'s'"
            ]
          },
          "execution_count": 67,
          "metadata": {},
          "output_type": "execute_result"
        }
      ],
      "source": [
        "s[-1]"
      ]
    },
    {
      "cell_type": "code",
      "execution_count": null,
      "id": "86b4609a-6701-4542-8740-5d0c9045697b",
      "metadata": {
        "id": "86b4609a-6701-4542-8740-5d0c9045697b",
        "outputId": "36369615-9d12-4e3f-ffbf-d405e9e1d686"
      },
      "outputs": [
        {
          "data": {
            "text/plain": [
              "'p'"
            ]
          },
          "execution_count": 68,
          "metadata": {},
          "output_type": "execute_result"
        }
      ],
      "source": [
        "s[-8]"
      ]
    },
    {
      "cell_type": "code",
      "execution_count": null,
      "id": "1cf0e36d-28a2-4c8d-aa8b-fb3e8d9c965e",
      "metadata": {
        "id": "1cf0e36d-28a2-4c8d-aa8b-fb3e8d9c965e",
        "outputId": "ebd11b36-4321-4679-e96f-306a7b2ec705"
      },
      "outputs": [
        {
          "data": {
            "text/plain": [
              "'pws'"
            ]
          },
          "execution_count": 69,
          "metadata": {},
          "output_type": "execute_result"
        }
      ],
      "source": [
        "s[0:3]"
      ]
    },
    {
      "cell_type": "code",
      "execution_count": null,
      "id": "685a4cb1-9ded-4390-b8bc-4f85da718d06",
      "metadata": {
        "id": "685a4cb1-9ded-4390-b8bc-4f85da718d06",
        "outputId": "e98f4e8b-1355-4a28-f97d-d5518cc728f5"
      },
      "outputs": [
        {
          "data": {
            "text/plain": [
              "'pw'"
            ]
          },
          "execution_count": 70,
          "metadata": {},
          "output_type": "execute_result"
        }
      ],
      "source": [
        "s[0:2]"
      ]
    },
    {
      "cell_type": "code",
      "execution_count": null,
      "id": "c5617e15-46ca-490c-9c06-3e02dc38549d",
      "metadata": {
        "id": "c5617e15-46ca-490c-9c06-3e02dc38549d",
        "outputId": "5463af07-f56f-4f36-aef4-27e0031f0b27"
      },
      "outputs": [
        {
          "data": {
            "text/plain": [
              "'pwsk'"
            ]
          },
          "execution_count": 71,
          "metadata": {},
          "output_type": "execute_result"
        }
      ],
      "source": [
        "s[0:4]"
      ]
    },
    {
      "cell_type": "code",
      "execution_count": null,
      "id": "1603163c-9962-4c03-be2b-8e7e4ed32d93",
      "metadata": {
        "id": "1603163c-9962-4c03-be2b-8e7e4ed32d93",
        "outputId": "f3e53b82-2011-4040-8790-013ffecbe3ac"
      },
      "outputs": [
        {
          "data": {
            "text/plain": [
              "'psil'"
            ]
          },
          "execution_count": 72,
          "metadata": {},
          "output_type": "execute_result"
        }
      ],
      "source": [
        "s[0:8:2]"
      ]
    },
    {
      "cell_type": "code",
      "execution_count": null,
      "id": "bc03eca4-472e-4acf-b816-0644675d3f0f",
      "metadata": {
        "id": "bc03eca4-472e-4acf-b816-0644675d3f0f",
        "outputId": "8a521fc6-886b-4280-a253-e7bab40ccde3"
      },
      "outputs": [
        {
          "data": {
            "text/plain": [
              "'pwsk'"
            ]
          },
          "execution_count": 73,
          "metadata": {},
          "output_type": "execute_result"
        }
      ],
      "source": [
        "s[0:4:1]"
      ]
    },
    {
      "cell_type": "code",
      "execution_count": null,
      "id": "809e9dd4-557d-46a2-8787-9220c2e248d8",
      "metadata": {
        "id": "809e9dd4-557d-46a2-8787-9220c2e248d8",
        "outputId": "ce563bc5-6a4a-4e13-952d-73b07e58de13"
      },
      "outputs": [
        {
          "data": {
            "text/plain": [
              "'psil'"
            ]
          },
          "execution_count": 74,
          "metadata": {},
          "output_type": "execute_result"
        }
      ],
      "source": [
        "s[::2]"
      ]
    },
    {
      "cell_type": "code",
      "execution_count": null,
      "id": "1cdfbf87-5fed-42e1-87aa-5c861c6aa9c4",
      "metadata": {
        "id": "1cdfbf87-5fed-42e1-87aa-5c861c6aa9c4",
        "outputId": "59975091-beb9-41d3-af9a-f58751c27b43"
      },
      "outputs": [
        {
          "data": {
            "text/plain": [
              "'psil'"
            ]
          },
          "execution_count": 75,
          "metadata": {},
          "output_type": "execute_result"
        }
      ],
      "source": [
        "s[0::2]"
      ]
    },
    {
      "cell_type": "code",
      "execution_count": null,
      "id": "43133a45-02d8-4511-b2f9-2770e4d3637d",
      "metadata": {
        "id": "43133a45-02d8-4511-b2f9-2770e4d3637d",
        "outputId": "2a3e6098-6bb9-4a2e-bfec-3c7d737e893e"
      },
      "outputs": [
        {
          "data": {
            "text/plain": [
              "'sil'"
            ]
          },
          "execution_count": 76,
          "metadata": {},
          "output_type": "execute_result"
        }
      ],
      "source": [
        "s[2::2]"
      ]
    },
    {
      "cell_type": "code",
      "execution_count": null,
      "id": "f3fce780-e143-41fe-a957-4c16bdaef16c",
      "metadata": {
        "id": "f3fce780-e143-41fe-a957-4c16bdaef16c",
        "outputId": "95db58f2-fe78-4409-a3e1-202284a59022"
      },
      "outputs": [
        {
          "data": {
            "text/plain": [
              "'skills'"
            ]
          },
          "execution_count": 78,
          "metadata": {},
          "output_type": "execute_result"
        }
      ],
      "source": [
        "s[2::1]"
      ]
    },
    {
      "cell_type": "code",
      "execution_count": null,
      "id": "38a6700c-ecd6-4072-bcca-9205744ca184",
      "metadata": {
        "id": "38a6700c-ecd6-4072-bcca-9205744ca184",
        "outputId": "fafe579d-9787-4636-8a36-525144649842"
      },
      "outputs": [
        {
          "data": {
            "text/plain": [
              "'sllikswp'"
            ]
          },
          "execution_count": 79,
          "metadata": {},
          "output_type": "execute_result"
        }
      ],
      "source": [
        "s[::-1]"
      ]
    },
    {
      "cell_type": "code",
      "execution_count": null,
      "id": "ddc0a420-7178-4542-8be3-2a881b352cbf",
      "metadata": {
        "id": "ddc0a420-7178-4542-8be3-2a881b352cbf"
      },
      "outputs": [],
      "source": []
    },
    {
      "cell_type": "code",
      "execution_count": null,
      "id": "97bb85d2-e66b-4b03-a060-34a339c15b0f",
      "metadata": {
        "id": "97bb85d2-e66b-4b03-a060-34a339c15b0f",
        "outputId": "bcaee772-1d26-46a9-bdd5-358a8b8b62fa"
      },
      "outputs": [
        {
          "data": {
            "text/plain": [
              "'pwskills'"
            ]
          },
          "execution_count": 141,
          "metadata": {},
          "output_type": "execute_result"
        }
      ],
      "source": [
        "s"
      ]
    },
    {
      "cell_type": "code",
      "execution_count": null,
      "id": "405efddc-f443-463f-a730-5dcf214eb054",
      "metadata": {
        "id": "405efddc-f443-463f-a730-5dcf214eb054",
        "outputId": "d42b9051-3838-4207-f03e-ed37d015fea4"
      },
      "outputs": [
        {
          "data": {
            "text/plain": [
              "''"
            ]
          },
          "execution_count": 80,
          "metadata": {},
          "output_type": "execute_result"
        }
      ],
      "source": [
        "s[2:7:-1]"
      ]
    },
    {
      "cell_type": "code",
      "execution_count": null,
      "id": "78f3e702-b5b9-4d41-ab90-94f1cac41c47",
      "metadata": {
        "id": "78f3e702-b5b9-4d41-ab90-94f1cac41c47",
        "outputId": "17eb6bfe-becf-4244-9b49-848d9748836f"
      },
      "outputs": [
        {
          "data": {
            "text/plain": [
              "''"
            ]
          },
          "execution_count": 81,
          "metadata": {},
          "output_type": "execute_result"
        }
      ],
      "source": [
        "s[8:0]"
      ]
    },
    {
      "cell_type": "code",
      "execution_count": null,
      "id": "2012e3c3-246f-49ed-ad41-7341156a4b67",
      "metadata": {
        "id": "2012e3c3-246f-49ed-ad41-7341156a4b67",
        "outputId": "d2920d3e-d89d-49fb-dd3b-a850c61b96f3"
      },
      "outputs": [
        {
          "data": {
            "text/plain": [
              "'sllikswp'"
            ]
          },
          "execution_count": 86,
          "metadata": {},
          "output_type": "execute_result"
        }
      ],
      "source": [
        "s[8::-1]"
      ]
    },
    {
      "cell_type": "code",
      "execution_count": null,
      "id": "278af980-b48c-4750-9f18-91bac590fed6",
      "metadata": {
        "id": "278af980-b48c-4750-9f18-91bac590fed6",
        "outputId": "e23e625e-8651-4cbd-f546-9c166ad8c62a"
      },
      "outputs": [
        {
          "data": {
            "text/plain": [
              "'lliksw'"
            ]
          },
          "execution_count": 84,
          "metadata": {},
          "output_type": "execute_result"
        }
      ],
      "source": [
        "s[-2 : -8 : -1]"
      ]
    },
    {
      "cell_type": "code",
      "execution_count": null,
      "id": "af275dde-7925-4b0b-ae23-cf8aba205adb",
      "metadata": {
        "id": "af275dde-7925-4b0b-ae23-cf8aba205adb",
        "outputId": "9431247c-3184-48d5-b4f2-12da606b25cd"
      },
      "outputs": [
        {
          "data": {
            "text/plain": [
              "'llikswp'"
            ]
          },
          "execution_count": 85,
          "metadata": {},
          "output_type": "execute_result"
        }
      ],
      "source": [
        "s[-2 : : -1]"
      ]
    },
    {
      "cell_type": "code",
      "execution_count": null,
      "id": "a8f29017-08ec-4d20-8c2d-a6d7999d7227",
      "metadata": {
        "id": "a8f29017-08ec-4d20-8c2d-a6d7999d7227",
        "outputId": "d436a5c7-9444-4270-b670-32a910325a11"
      },
      "outputs": [
        {
          "data": {
            "text/plain": [
              "'sllikswp'"
            ]
          },
          "execution_count": 89,
          "metadata": {},
          "output_type": "execute_result"
        }
      ],
      "source": [
        "s[::-1]"
      ]
    },
    {
      "cell_type": "code",
      "execution_count": null,
      "id": "3c30e5b0-9ffe-4027-b1a8-cc42dc8f84cc",
      "metadata": {
        "id": "3c30e5b0-9ffe-4027-b1a8-cc42dc8f84cc",
        "outputId": "b76b3df3-930d-48d8-bab8-687fb554834d"
      },
      "outputs": [
        {
          "data": {
            "text/plain": [
              "'pwskills'"
            ]
          },
          "execution_count": 91,
          "metadata": {},
          "output_type": "execute_result"
        }
      ],
      "source": [
        "s[::]"
      ]
    },
    {
      "cell_type": "code",
      "execution_count": null,
      "id": "a68f3cc9-c764-4a78-9feb-209648662685",
      "metadata": {
        "id": "a68f3cc9-c764-4a78-9feb-209648662685",
        "outputId": "c6107ddc-1cb2-4c2f-c4c3-79a93ed4434b"
      },
      "outputs": [
        {
          "data": {
            "text/plain": [
              "''"
            ]
          },
          "execution_count": 93,
          "metadata": {},
          "output_type": "execute_result"
        }
      ],
      "source": [
        "s[:-90:]"
      ]
    },
    {
      "cell_type": "code",
      "execution_count": null,
      "id": "99fb168e-6372-4268-acc2-5a445c0dbe5d",
      "metadata": {
        "id": "99fb168e-6372-4268-acc2-5a445c0dbe5d",
        "outputId": "f2e77516-0509-417d-e7a7-a869495e8cb0"
      },
      "outputs": [
        {
          "ename": "IndexError",
          "evalue": "string index out of range",
          "output_type": "error",
          "traceback": [
            "\u001b[0;31m---------------------------------------------------------------------------\u001b[0m",
            "\u001b[0;31mIndexError\u001b[0m                                Traceback (most recent call last)",
            "Cell \u001b[0;32mIn[92], line 1\u001b[0m\n\u001b[0;32m----> 1\u001b[0m \u001b[43ms\u001b[49m\u001b[43m[\u001b[49m\u001b[38;5;241;43m90\u001b[39;49m\u001b[43m]\u001b[49m\n",
            "\u001b[0;31mIndexError\u001b[0m: string index out of range"
          ]
        }
      ],
      "source": [
        "s[90]"
      ]
    },
    {
      "cell_type": "code",
      "execution_count": null,
      "id": "67695afd-28a9-464b-af5e-d675a8504b88",
      "metadata": {
        "id": "67695afd-28a9-464b-af5e-d675a8504b88",
        "outputId": "b2a9d7d9-391d-486b-d96f-4322cbd61fc3"
      },
      "outputs": [
        {
          "data": {
            "text/plain": [
              "'sllikswp'"
            ]
          },
          "execution_count": 95,
          "metadata": {},
          "output_type": "execute_result"
        }
      ],
      "source": [
        "s[:-90000:-1]"
      ]
    },
    {
      "cell_type": "code",
      "execution_count": null,
      "id": "57379ec1-c81c-472e-a106-150e7bb97eb2",
      "metadata": {
        "id": "57379ec1-c81c-472e-a106-150e7bb97eb2"
      },
      "outputs": [],
      "source": [
        "c = 200"
      ]
    },
    {
      "cell_type": "code",
      "execution_count": null,
      "id": "20895ab2-dee5-4849-a317-3f9172310365",
      "metadata": {
        "id": "20895ab2-dee5-4849-a317-3f9172310365"
      },
      "outputs": [],
      "source": [
        "s1 = \"this is my string class\""
      ]
    },
    {
      "cell_type": "code",
      "execution_count": null,
      "id": "cecca0bc-88d6-4e28-a00e-c32c2c55c7a1",
      "metadata": {
        "id": "cecca0bc-88d6-4e28-a00e-c32c2c55c7a1",
        "outputId": "3d77cf6e-b2fd-4edf-8825-9dbbe1cd0dab"
      },
      "outputs": [
        {
          "data": {
            "text/plain": [
              "23"
            ]
          },
          "execution_count": 99,
          "metadata": {},
          "output_type": "execute_result"
        }
      ],
      "source": [
        "len(s1)"
      ]
    },
    {
      "cell_type": "code",
      "execution_count": null,
      "id": "74bba9d6-ac28-45d7-a814-408a116feecd",
      "metadata": {
        "id": "74bba9d6-ac28-45d7-a814-408a116feecd",
        "outputId": "b4318999-ba9d-46a9-8c87-287d3e9c13c7"
      },
      "outputs": [
        {
          "data": {
            "text/plain": [
              "3"
            ]
          },
          "execution_count": 100,
          "metadata": {},
          "output_type": "execute_result"
        }
      ],
      "source": [
        "s1.find('s')"
      ]
    },
    {
      "cell_type": "code",
      "execution_count": null,
      "id": "799c78af-43d5-4db8-a50f-08e3e19ae869",
      "metadata": {
        "id": "799c78af-43d5-4db8-a50f-08e3e19ae869",
        "outputId": "86f6d8f5-ef91-4924-d8a8-973889c7473c"
      },
      "outputs": [
        {
          "data": {
            "text/plain": [
              "2"
            ]
          },
          "execution_count": 101,
          "metadata": {},
          "output_type": "execute_result"
        }
      ],
      "source": [
        "s1.find('i')"
      ]
    },
    {
      "cell_type": "code",
      "execution_count": null,
      "id": "edb86932-ee9b-4836-ae44-96268d03c794",
      "metadata": {
        "id": "edb86932-ee9b-4836-ae44-96268d03c794",
        "outputId": "9371a21d-6e39-4fbf-da8d-1ff80d4f39c6"
      },
      "outputs": [
        {
          "data": {
            "text/plain": [
              "2"
            ]
          },
          "execution_count": 102,
          "metadata": {},
          "output_type": "execute_result"
        }
      ],
      "source": [
        "s1.find(\"is\")"
      ]
    },
    {
      "cell_type": "code",
      "execution_count": null,
      "id": "4bd1bbb6-64b5-430c-9b9d-93cfc16434e6",
      "metadata": {
        "id": "4bd1bbb6-64b5-430c-9b9d-93cfc16434e6",
        "outputId": "eb51e91b-1c53-4ff5-af95-99e35713d423"
      },
      "outputs": [
        {
          "data": {
            "text/plain": [
              "-1"
            ]
          },
          "execution_count": 134,
          "metadata": {},
          "output_type": "execute_result"
        }
      ],
      "source": [
        "#this is a code to find a charecterd of sub string in string \n",
        "s1.find(\"iS\")"
      ]
    },
    {
      "cell_type": "code",
      "execution_count": null,
      "id": "54b4a244-61a9-40ad-8b7e-ec8a701e16cc",
      "metadata": {
        "id": "54b4a244-61a9-40ad-8b7e-ec8a701e16cc",
        "outputId": "e4b1623b-79f8-4c3c-aa05-a99e4e9e4cbe"
      },
      "outputs": [
        {
          "data": {
            "text/plain": [
              "5"
            ]
          },
          "execution_count": 104,
          "metadata": {},
          "output_type": "execute_result"
        }
      ],
      "source": [
        "s1.count('s')"
      ]
    },
    {
      "cell_type": "code",
      "execution_count": null,
      "id": "9bd9757a-c4a2-46dd-919f-435a7c6d4561",
      "metadata": {
        "id": "9bd9757a-c4a2-46dd-919f-435a7c6d4561",
        "outputId": "e02a4be7-8f40-4560-f99c-aae84f1114cd"
      },
      "outputs": [
        {
          "data": {
            "text/plain": [
              "'this is my string class'"
            ]
          },
          "execution_count": 105,
          "metadata": {},
          "output_type": "execute_result"
        }
      ],
      "source": [
        "s1"
      ]
    },
    {
      "cell_type": "code",
      "execution_count": null,
      "id": "84cdf888-5d18-48f1-abb7-5dfacf488716",
      "metadata": {
        "id": "84cdf888-5d18-48f1-abb7-5dfacf488716",
        "outputId": "fd32f155-62bb-4259-c42b-64f9e526b066"
      },
      "outputs": [
        {
          "data": {
            "text/plain": [
              "1"
            ]
          },
          "execution_count": 106,
          "metadata": {},
          "output_type": "execute_result"
        }
      ],
      "source": [
        "s1.count(\"st\")"
      ]
    },
    {
      "cell_type": "code",
      "execution_count": null,
      "id": "bd654c46-a03e-420d-8b72-5ab4595da8e7",
      "metadata": {
        "id": "bd654c46-a03e-420d-8b72-5ab4595da8e7",
        "outputId": "ee7ea216-70b8-4b65-da12-b99edfa98af6"
      },
      "outputs": [
        {
          "data": {
            "text/plain": [
              "0"
            ]
          },
          "execution_count": 107,
          "metadata": {},
          "output_type": "execute_result"
        }
      ],
      "source": [
        "s1.count('z')"
      ]
    },
    {
      "cell_type": "code",
      "execution_count": null,
      "id": "8e7f6eed-0f58-4f04-afea-9d12c8ff03c0",
      "metadata": {
        "id": "8e7f6eed-0f58-4f04-afea-9d12c8ff03c0",
        "outputId": "f8ba15be-c72a-4b82-8609-175946379b41"
      },
      "outputs": [
        {
          "data": {
            "text/plain": [
              "'this is my string class'"
            ]
          },
          "execution_count": 108,
          "metadata": {},
          "output_type": "execute_result"
        }
      ],
      "source": [
        "s1"
      ]
    },
    {
      "cell_type": "code",
      "execution_count": null,
      "id": "700c6fda-eb0f-4d2d-9e32-f6037a666e48",
      "metadata": {
        "id": "700c6fda-eb0f-4d2d-9e32-f6037a666e48",
        "outputId": "16c8ffe1-f54c-4491-d390-8a71c24d3b38"
      },
      "outputs": [
        {
          "data": {
            "text/plain": [
              "'THIS IS MY STRING CLASS'"
            ]
          },
          "execution_count": 109,
          "metadata": {},
          "output_type": "execute_result"
        }
      ],
      "source": [
        "s1.upper()"
      ]
    },
    {
      "cell_type": "code",
      "execution_count": null,
      "id": "19d4b1c4-2a8d-4028-a75b-b5baa96398ee",
      "metadata": {
        "id": "19d4b1c4-2a8d-4028-a75b-b5baa96398ee"
      },
      "outputs": [],
      "source": [
        "s2 = 'THIS IS MY STRING CLASS'"
      ]
    },
    {
      "cell_type": "code",
      "execution_count": null,
      "id": "378742c9-25e4-43c4-b6be-a61214f4124c",
      "metadata": {
        "id": "378742c9-25e4-43c4-b6be-a61214f4124c",
        "outputId": "2556b14a-765f-41d3-f67e-22687f2915d2"
      },
      "outputs": [
        {
          "data": {
            "text/plain": [
              "'THIS IS MY STRING CLASS'"
            ]
          },
          "execution_count": 111,
          "metadata": {},
          "output_type": "execute_result"
        }
      ],
      "source": [
        "s2"
      ]
    },
    {
      "cell_type": "code",
      "execution_count": null,
      "id": "0681412e-b278-43d8-9141-7a4427e275b8",
      "metadata": {
        "id": "0681412e-b278-43d8-9141-7a4427e275b8",
        "outputId": "cd249e7d-11c4-49d3-c71d-b167794e4f06"
      },
      "outputs": [
        {
          "data": {
            "text/plain": [
              "'this is my string class'"
            ]
          },
          "execution_count": 112,
          "metadata": {},
          "output_type": "execute_result"
        }
      ],
      "source": [
        "s2.lower()"
      ]
    },
    {
      "cell_type": "code",
      "execution_count": null,
      "id": "b11139ef-ee48-48e5-b8ba-d1f8aa6908f2",
      "metadata": {
        "id": "b11139ef-ee48-48e5-b8ba-d1f8aa6908f2",
        "outputId": "c536a736-3020-4893-92e6-b40ecb106c8e"
      },
      "outputs": [
        {
          "data": {
            "text/plain": [
              "'this is my string class'"
            ]
          },
          "execution_count": 113,
          "metadata": {},
          "output_type": "execute_result"
        }
      ],
      "source": [
        "s1"
      ]
    },
    {
      "cell_type": "code",
      "execution_count": null,
      "id": "da15bb5d-72b3-4854-a818-19b1e96a1fdd",
      "metadata": {
        "id": "da15bb5d-72b3-4854-a818-19b1e96a1fdd",
        "outputId": "7a6a01cf-eb64-4885-b6a0-cd7f3c31f8ab"
      },
      "outputs": [
        {
          "data": {
            "text/plain": [
              "'This Is My String Class'"
            ]
          },
          "execution_count": 114,
          "metadata": {},
          "output_type": "execute_result"
        }
      ],
      "source": [
        "s1.title()"
      ]
    },
    {
      "cell_type": "code",
      "execution_count": null,
      "id": "f3bcd4f0-7ac5-45c3-99f3-204f9f4f79d1",
      "metadata": {
        "id": "f3bcd4f0-7ac5-45c3-99f3-204f9f4f79d1",
        "outputId": "2db23619-6f9d-4d23-e6b2-24f2ddd953ce"
      },
      "outputs": [
        {
          "data": {
            "text/plain": [
              "'This is my string class'"
            ]
          },
          "execution_count": 115,
          "metadata": {},
          "output_type": "execute_result"
        }
      ],
      "source": [
        "s1.capitalize()"
      ]
    },
    {
      "cell_type": "code",
      "execution_count": null,
      "id": "2b51f51a-691a-40b3-80db-00bb7e1a2f56",
      "metadata": {
        "id": "2b51f51a-691a-40b3-80db-00bb7e1a2f56",
        "outputId": "318384b3-99fa-4c9d-f11b-aa484cf7e993"
      },
      "outputs": [
        {
          "data": {
            "text/plain": [
              "'pwskills'"
            ]
          },
          "execution_count": 116,
          "metadata": {},
          "output_type": "execute_result"
        }
      ],
      "source": [
        "s"
      ]
    },
    {
      "cell_type": "code",
      "execution_count": null,
      "id": "7d771270-fd9e-417b-8057-1ce704c52c6d",
      "metadata": {
        "id": "7d771270-fd9e-417b-8057-1ce704c52c6d",
        "outputId": "e0fb1b55-ffa4-4c5a-e787-f571107c04c4"
      },
      "outputs": [
        {
          "ename": "TypeError",
          "evalue": "can only concatenate str (not \"int\") to str",
          "output_type": "error",
          "traceback": [
            "\u001b[0;31m---------------------------------------------------------------------------\u001b[0m",
            "\u001b[0;31mTypeError\u001b[0m                                 Traceback (most recent call last)",
            "Cell \u001b[0;32mIn[117], line 1\u001b[0m\n\u001b[0;32m----> 1\u001b[0m \u001b[43ms\u001b[49m\u001b[43m \u001b[49m\u001b[38;5;241;43m+\u001b[39;49m\u001b[43m \u001b[49m\u001b[38;5;241;43m1\u001b[39;49m\n",
            "\u001b[0;31mTypeError\u001b[0m: can only concatenate str (not \"int\") to str"
          ]
        }
      ],
      "source": [
        "s + 1"
      ]
    },
    {
      "cell_type": "code",
      "execution_count": null,
      "id": "e33d03a4-2a41-4bf3-811b-2a5f6b760f4e",
      "metadata": {
        "id": "e33d03a4-2a41-4bf3-811b-2a5f6b760f4e",
        "outputId": "624d75ad-08a7-47dc-d06f-70c7ca8fde91"
      },
      "outputs": [
        {
          "data": {
            "text/plain": [
              "'pwskills sudh'"
            ]
          },
          "execution_count": 120,
          "metadata": {},
          "output_type": "execute_result"
        }
      ],
      "source": [
        "s + \" sudh\""
      ]
    },
    {
      "cell_type": "code",
      "execution_count": null,
      "id": "0a71bfe0-f50b-4341-9016-95d9efe3ac5e",
      "metadata": {
        "id": "0a71bfe0-f50b-4341-9016-95d9efe3ac5e",
        "outputId": "463e5b8a-ca35-46cf-82eb-d2cc729e20aa"
      },
      "outputs": [
        {
          "data": {
            "text/plain": [
              "'pwskills1'"
            ]
          },
          "execution_count": 121,
          "metadata": {},
          "output_type": "execute_result"
        }
      ],
      "source": [
        "s + '1'"
      ]
    },
    {
      "cell_type": "code",
      "execution_count": null,
      "id": "ccff93e3-5f2f-4400-b9e6-4c5df7d861f3",
      "metadata": {
        "id": "ccff93e3-5f2f-4400-b9e6-4c5df7d861f3",
        "outputId": "56037945-4783-4db0-813b-d35003a6aca5"
      },
      "outputs": [
        {
          "data": {
            "text/plain": [
              "'pwskills1'"
            ]
          },
          "execution_count": 122,
          "metadata": {},
          "output_type": "execute_result"
        }
      ],
      "source": [
        "s+ str(1)"
      ]
    },
    {
      "cell_type": "code",
      "execution_count": null,
      "id": "6139b5d5-4f5a-4762-9ff1-b471a5e5b0f1",
      "metadata": {
        "id": "6139b5d5-4f5a-4762-9ff1-b471a5e5b0f1",
        "outputId": "83a605c4-dea5-4542-e494-5625a8bb1cfc"
      },
      "outputs": [
        {
          "data": {
            "text/plain": [
              "'pwskillspwskillspwskills'"
            ]
          },
          "execution_count": 123,
          "metadata": {},
          "output_type": "execute_result"
        }
      ],
      "source": [
        "s * 3 "
      ]
    },
    {
      "cell_type": "code",
      "execution_count": null,
      "id": "7c0ebf56-d6e2-4b76-a8ec-a56a017509d2",
      "metadata": {
        "id": "7c0ebf56-d6e2-4b76-a8ec-a56a017509d2",
        "outputId": "5a330946-864b-4d2d-a082-663501002691"
      },
      "outputs": [
        {
          "data": {
            "text/plain": [
              "'sudhsudhsudhsudh'"
            ]
          },
          "execution_count": 124,
          "metadata": {},
          "output_type": "execute_result"
        }
      ],
      "source": [
        "'sudh' *4"
      ]
    },
    {
      "cell_type": "code",
      "execution_count": null,
      "id": "4848a53b-c42c-49c8-af4a-9f271d2ec420",
      "metadata": {
        "id": "4848a53b-c42c-49c8-af4a-9f271d2ec420",
        "outputId": "f956ada6-4e66-45d0-888a-5071a22e7f86"
      },
      "outputs": [
        {
          "ename": "TypeError",
          "evalue": "unsupported operand type(s) for /: 'str' and 'int'",
          "output_type": "error",
          "traceback": [
            "\u001b[0;31m---------------------------------------------------------------------------\u001b[0m",
            "\u001b[0;31mTypeError\u001b[0m                                 Traceback (most recent call last)",
            "Cell \u001b[0;32mIn[125], line 1\u001b[0m\n\u001b[0;32m----> 1\u001b[0m \u001b[38;5;124;43m\"\u001b[39;49m\u001b[38;5;124;43msudh\u001b[39;49m\u001b[38;5;124;43m\"\u001b[39;49m\u001b[43m \u001b[49m\u001b[38;5;241;43m/\u001b[39;49m\u001b[43m \u001b[49m\u001b[38;5;241;43m4\u001b[39;49m\n",
            "\u001b[0;31mTypeError\u001b[0m: unsupported operand type(s) for /: 'str' and 'int'"
          ]
        }
      ],
      "source": [
        "\"sudh\" / 4"
      ]
    },
    {
      "cell_type": "code",
      "execution_count": null,
      "id": "b1b63319-404b-4059-8770-4d3cf5446922",
      "metadata": {
        "id": "b1b63319-404b-4059-8770-4d3cf5446922",
        "outputId": "69e37d8d-4e80-46e2-b3d0-cc379e09845f"
      },
      "outputs": [
        {
          "data": {
            "text/plain": [
              "\"don't do copy and paste in my class\""
            ]
          },
          "execution_count": 127,
          "metadata": {},
          "output_type": "execute_result"
        }
      ],
      "source": [
        "\"don't do copy and paste in my class\""
      ]
    },
    {
      "cell_type": "code",
      "execution_count": null,
      "id": "5713cafe-63fd-4503-b437-9b8a2dfdb99a",
      "metadata": {
        "id": "5713cafe-63fd-4503-b437-9b8a2dfdb99a",
        "outputId": "6a61c51d-d307-4947-a230-8bef4d1a4e4a"
      },
      "outputs": [
        {
          "data": {
            "text/plain": [
              "'don\"t do copy and paste in my class'"
            ]
          },
          "execution_count": 129,
          "metadata": {},
          "output_type": "execute_result"
        }
      ],
      "source": [
        "'don\"t do copy and paste in my class'"
      ]
    },
    {
      "cell_type": "code",
      "execution_count": null,
      "id": "2ec0c8c9-a3bf-4643-b108-c4e1af3dfc0f",
      "metadata": {
        "id": "2ec0c8c9-a3bf-4643-b108-c4e1af3dfc0f"
      },
      "outputs": [],
      "source": [
        "s3 = \"\"\"This is my first class for programming\n",
        "i have leant variable declaration , data type , string , int , boolean , complex number \n",
        "i have seen some example of string slicing and indexing \n",
        "i have gone though some of the string inbuilt function \n",
        "apart from that i am trying to practice in my system \n",
        "but some of us in our calss are not executing code and still they are answering which is bad \"\"\""
      ]
    },
    {
      "cell_type": "code",
      "execution_count": null,
      "id": "87ca83d6-809b-4140-87ff-f6ac1058f9c1",
      "metadata": {
        "id": "87ca83d6-809b-4140-87ff-f6ac1058f9c1",
        "outputId": "fc355dab-bac0-4ac5-bfd3-5413a1881c99"
      },
      "outputs": [
        {
          "data": {
            "text/plain": [
              "'This is my first class for programming\\ni have leant variable declaration , data type , string , int , boolean , complex number \\ni have seen some example of string slicing and indexing \\ni have gone though some of the string inbuilt function \\napart from that i am trying to practice in my system \\nbut some of us in our calss are not executing code and still they are answering which is bad '"
            ]
          },
          "execution_count": 140,
          "metadata": {},
          "output_type": "execute_result"
        }
      ],
      "source": [
        "s3"
      ]
    },
    {
      "cell_type": "code",
      "execution_count": null,
      "id": "2acdd76e-53d8-439e-8368-575db820fb68",
      "metadata": {
        "id": "2acdd76e-53d8-439e-8368-575db820fb68",
        "outputId": "507eb278-967d-447e-f52a-40a92956e509"
      },
      "outputs": [
        {
          "data": {
            "text/plain": [
              "'pwskills'"
            ]
          },
          "execution_count": 142,
          "metadata": {},
          "output_type": "execute_result"
        }
      ],
      "source": [
        "s"
      ]
    },
    {
      "cell_type": "code",
      "execution_count": null,
      "id": "5cc0c634-1580-4d21-9f18-899deff3dfb9",
      "metadata": {
        "id": "5cc0c634-1580-4d21-9f18-899deff3dfb9",
        "outputId": "8d502136-de46-4fe1-f584-f6a8ddeb535a"
      },
      "outputs": [
        {
          "data": {
            "text/plain": [
              "'sllikswp'"
            ]
          },
          "execution_count": 143,
          "metadata": {},
          "output_type": "execute_result"
        }
      ],
      "source": [
        "s[::-1]"
      ]
    },
    {
      "cell_type": "code",
      "execution_count": null,
      "id": "4ea52474-1098-4520-b86e-7d74174a8ba0",
      "metadata": {
        "id": "4ea52474-1098-4520-b86e-7d74174a8ba0",
        "outputId": "75461f68-caf3-4497-b407-723f40992d22"
      },
      "outputs": [
        {
          "data": {
            "text/plain": [
              "'P'"
            ]
          },
          "execution_count": 145,
          "metadata": {},
          "output_type": "execute_result"
        }
      ],
      "source": [
        "s[-8::-1].upper()"
      ]
    },
    {
      "cell_type": "code",
      "execution_count": null,
      "id": "d2f9105f-cf70-4ed5-9104-6c50c355d464",
      "metadata": {
        "id": "d2f9105f-cf70-4ed5-9104-6c50c355d464"
      },
      "outputs": [],
      "source": [
        "s = \"rohan\""
      ]
    },
    {
      "cell_type": "code",
      "execution_count": null,
      "id": "aca3fbb4-ae1f-45d7-869c-e686bcf74536",
      "metadata": {
        "id": "aca3fbb4-ae1f-45d7-869c-e686bcf74536",
        "outputId": "334ad03d-e5e0-460f-8b41-da5ccdaec180"
      },
      "outputs": [
        {
          "data": {
            "text/plain": [
              "'rohan'"
            ]
          },
          "execution_count": 147,
          "metadata": {},
          "output_type": "execute_result"
        }
      ],
      "source": [
        "s"
      ]
    },
    {
      "cell_type": "code",
      "execution_count": null,
      "id": "03632572-b563-4483-82bc-450c477d1c57",
      "metadata": {
        "id": "03632572-b563-4483-82bc-450c477d1c57",
        "outputId": "58aca002-5cf5-4260-cc0b-3719c829b0c0"
      },
      "outputs": [
        {
          "name": "stdout",
          "output_type": "stream",
          "text": [
            "rohan\n"
          ]
        }
      ],
      "source": [
        "print(s)"
      ]
    },
    {
      "cell_type": "code",
      "execution_count": null,
      "id": "4c644085-cc4f-4a69-a2ae-0049f43f79a8",
      "metadata": {
        "id": "4c644085-cc4f-4a69-a2ae-0049f43f79a8",
        "outputId": "782c4dc8-81c3-46de-b62e-a1770996b2b2"
      },
      "outputs": [
        {
          "data": {
            "text/plain": [
              "'ahor'"
            ]
          },
          "execution_count": 149,
          "metadata": {},
          "output_type": "execute_result"
        }
      ],
      "source": [
        "s[-2::-1]"
      ]
    },
    {
      "cell_type": "code",
      "execution_count": null,
      "id": "76e5f39b-95dc-48f0-9bb2-2182d8dc0271",
      "metadata": {
        "id": "76e5f39b-95dc-48f0-9bb2-2182d8dc0271"
      },
      "outputs": [],
      "source": [
        "s = \"pwskills\""
      ]
    },
    {
      "cell_type": "code",
      "execution_count": null,
      "id": "d849e4c4-4210-481d-aad1-1c09c141d78f",
      "metadata": {
        "id": "d849e4c4-4210-481d-aad1-1c09c141d78f",
        "outputId": "897b4df8-b484-408b-893d-1bad981aa58f"
      },
      "outputs": [
        {
          "data": {
            "text/plain": [
              "'llikswp'"
            ]
          },
          "execution_count": 153,
          "metadata": {},
          "output_type": "execute_result"
        }
      ],
      "source": [
        "s[-2::-1]"
      ]
    },
    {
      "cell_type": "code",
      "execution_count": null,
      "id": "64db01dc-559f-4b85-b3b0-916082aee184",
      "metadata": {
        "id": "64db01dc-559f-4b85-b3b0-916082aee184"
      },
      "outputs": [],
      "source": [
        "s4= \"\"\"Iam praharshitha\n",
        "im in second year\n",
        "i want to learn python\"\"\""
      ]
    },
    {
      "cell_type": "code",
      "execution_count": null,
      "id": "0a90d2e1-7a0d-46a1-8a8d-4d5ab22d5975",
      "metadata": {
        "id": "0a90d2e1-7a0d-46a1-8a8d-4d5ab22d5975",
        "outputId": "90cf7a2f-da27-4ed3-9e71-a7cbd3b191f2"
      },
      "outputs": [
        {
          "data": {
            "text/plain": [
              "'Iam praharshitha\\nim in second year\\ni want to learn python'"
            ]
          },
          "execution_count": 157,
          "metadata": {},
          "output_type": "execute_result"
        }
      ],
      "source": [
        "s4"
      ]
    },
    {
      "cell_type": "code",
      "execution_count": null,
      "id": "54e0339e-b713-4b2e-82f7-2787ceec801b",
      "metadata": {
        "id": "54e0339e-b713-4b2e-82f7-2787ceec801b",
        "outputId": "18827252-33b6-4696-e95a-56b6f938ab79"
      },
      "outputs": [
        {
          "data": {
            "text/plain": [
              "'slliksw'"
            ]
          },
          "execution_count": 158,
          "metadata": {},
          "output_type": "execute_result"
        }
      ],
      "source": [
        "s[:-8:-1]"
      ]
    },
    {
      "cell_type": "code",
      "execution_count": null,
      "id": "8b687cfe-8bce-4646-a749-afa59f5d5ee9",
      "metadata": {
        "id": "8b687cfe-8bce-4646-a749-afa59f5d5ee9",
        "outputId": "b6c14456-29a1-44bf-f72c-689e0f22fb77"
      },
      "outputs": [
        {
          "data": {
            "text/plain": [
              "'pwskills'"
            ]
          },
          "execution_count": 159,
          "metadata": {},
          "output_type": "execute_result"
        }
      ],
      "source": [
        "s"
      ]
    },
    {
      "cell_type": "code",
      "execution_count": null,
      "id": "e4597a56-e615-483c-a0ff-7b88117ab465",
      "metadata": {
        "id": "e4597a56-e615-483c-a0ff-7b88117ab465",
        "outputId": "44caff72-91de-476b-f92d-bffc7f0c3ed2"
      },
      "outputs": [
        {
          "data": {
            "text/plain": [
              "'pwskillspwskillspwskills'"
            ]
          },
          "execution_count": 161,
          "metadata": {},
          "output_type": "execute_result"
        }
      ],
      "source": [
        "s * 3"
      ]
    },
    {
      "cell_type": "code",
      "execution_count": null,
      "id": "1caeead6-2815-4120-98a9-520bd9233316",
      "metadata": {
        "id": "1caeead6-2815-4120-98a9-520bd9233316"
      },
      "outputs": [],
      "source": [
        "s = \"pwskills \""
      ]
    },
    {
      "cell_type": "code",
      "execution_count": null,
      "id": "27a27801-10d0-4c6a-97a9-240e42cf9baf",
      "metadata": {
        "id": "27a27801-10d0-4c6a-97a9-240e42cf9baf",
        "outputId": "bf9d1d3c-46ef-4ebf-e022-6e199e869a97"
      },
      "outputs": [
        {
          "data": {
            "text/plain": [
              "'pwskills pwskills pwskills '"
            ]
          },
          "execution_count": 163,
          "metadata": {},
          "output_type": "execute_result"
        }
      ],
      "source": [
        "s*3"
      ]
    },
    {
      "cell_type": "code",
      "execution_count": null,
      "id": "4d8d27bf-854f-4d0d-8251-794dba7c7d3d",
      "metadata": {
        "id": "4d8d27bf-854f-4d0d-8251-794dba7c7d3d"
      },
      "outputs": [],
      "source": [
        "a = 1"
      ]
    },
    {
      "cell_type": "code",
      "execution_count": null,
      "id": "59944f83-f92e-480a-a6e6-f9f613530a4c",
      "metadata": {
        "id": "59944f83-f92e-480a-a6e6-f9f613530a4c"
      },
      "outputs": [],
      "source": [
        "b = 3\n",
        "c = 5"
      ]
    },
    {
      "cell_type": "code",
      "execution_count": null,
      "id": "c234b677-0422-45a2-84b1-d5fcaec53ad1",
      "metadata": {
        "id": "c234b677-0422-45a2-84b1-d5fcaec53ad1",
        "outputId": "787d49c2-9f6b-44b5-8ac4-40d9164ec2f7"
      },
      "outputs": [
        {
          "data": {
            "text/plain": [
              "'pwskills '"
            ]
          },
          "execution_count": 171,
          "metadata": {},
          "output_type": "execute_result"
        }
      ],
      "source": [
        "s"
      ]
    },
    {
      "cell_type": "code",
      "execution_count": null,
      "id": "2835a083-8adf-4707-bb9f-bf48f596bebb",
      "metadata": {
        "id": "2835a083-8adf-4707-bb9f-bf48f596bebb"
      },
      "outputs": [],
      "source": [
        "s = 'myskill'"
      ]
    },
    {
      "cell_type": "code",
      "execution_count": null,
      "id": "65a1509a-59f0-4b1c-a218-9594ed8b3894",
      "metadata": {
        "id": "65a1509a-59f0-4b1c-a218-9594ed8b3894",
        "outputId": "3e5a6bfd-2f06-472f-b97e-c4d853e18f1e"
      },
      "outputs": [
        {
          "data": {
            "text/plain": [
              "'liksym'"
            ]
          },
          "execution_count": 173,
          "metadata": {},
          "output_type": "execute_result"
        }
      ],
      "source": [
        "s[-2::-1]"
      ]
    },
    {
      "cell_type": "code",
      "execution_count": null,
      "id": "d58f768a-5dee-4cd7-966a-2a2199c330ee",
      "metadata": {
        "id": "d58f768a-5dee-4cd7-966a-2a2199c330ee"
      },
      "outputs": [],
      "source": [
        "# jkfhsajasf\n",
        "# fasdfhiasfhd\n",
        "# ihasdufh\n",
        "# iuhasdfias\n",
        "# hoasdofasf\n",
        "# hiuohasdofs\n",
        "# hlohasfdsa"
      ]
    },
    {
      "cell_type": "code",
      "execution_count": null,
      "id": "7a48d672-2c85-40cd-a4c4-97b815bc6bae",
      "metadata": {
        "id": "7a48d672-2c85-40cd-a4c4-97b815bc6bae"
      },
      "outputs": [],
      "source": [
        "s = \"pwskill\""
      ]
    },
    {
      "cell_type": "code",
      "execution_count": null,
      "id": "fda1c693-4a59-44a3-af64-0f9450bedcc0",
      "metadata": {
        "id": "fda1c693-4a59-44a3-af64-0f9450bedcc0",
        "outputId": "ff61c55f-f873-4302-99aa-533f1d95443d"
      },
      "outputs": [
        {
          "data": {
            "text/plain": [
              "'s'"
            ]
          },
          "execution_count": 176,
          "metadata": {},
          "output_type": "execute_result"
        }
      ],
      "source": [
        "s[2:3:1]"
      ]
    },
    {
      "cell_type": "code",
      "execution_count": null,
      "id": "3bc25384-865e-4ab3-8055-aa9fdff390bc",
      "metadata": {
        "id": "3bc25384-865e-4ab3-8055-aa9fdff390bc"
      },
      "outputs": [],
      "source": [
        "a = 10 "
      ]
    },
    {
      "cell_type": "code",
      "execution_count": null,
      "id": "f6cb0b0b-de10-4a65-8d63-8d21fd273f32",
      "metadata": {
        "id": "f6cb0b0b-de10-4a65-8d63-8d21fd273f32",
        "outputId": "1344281c-ac7c-4ad2-db29-9ee038cdbf51"
      },
      "outputs": [
        {
          "data": {
            "text/plain": [
              "10"
            ]
          },
          "execution_count": 178,
          "metadata": {},
          "output_type": "execute_result"
        }
      ],
      "source": [
        "a"
      ]
    },
    {
      "cell_type": "code",
      "execution_count": null,
      "id": "84e59358-8879-4a15-a0d2-b33905271e03",
      "metadata": {
        "id": "84e59358-8879-4a15-a0d2-b33905271e03"
      },
      "outputs": [],
      "source": []
    },
    {
      "cell_type": "code",
      "execution_count": null,
      "id": "6ee6e15d-9315-4700-9877-b4099a09075e",
      "metadata": {
        "id": "6ee6e15d-9315-4700-9877-b4099a09075e"
      },
      "outputs": [],
      "source": []
    },
    {
      "cell_type": "code",
      "execution_count": null,
      "id": "d4fe0d5c-3a47-4061-b819-fa35f702703f",
      "metadata": {
        "id": "d4fe0d5c-3a47-4061-b819-fa35f702703f"
      },
      "outputs": [],
      "source": []
    },
    {
      "cell_type": "code",
      "execution_count": null,
      "id": "880866a5-268e-4f53-a886-17a8dc0034d4",
      "metadata": {
        "id": "880866a5-268e-4f53-a886-17a8dc0034d4"
      },
      "outputs": [],
      "source": []
    },
    {
      "cell_type": "code",
      "execution_count": null,
      "id": "708a56f0-b5f1-4948-8ace-ec250a601fb1",
      "metadata": {
        "id": "708a56f0-b5f1-4948-8ace-ec250a601fb1"
      },
      "outputs": [],
      "source": []
    },
    {
      "cell_type": "code",
      "execution_count": null,
      "id": "25f573f3-968d-48bf-b8fa-bc4870250b01",
      "metadata": {
        "id": "25f573f3-968d-48bf-b8fa-bc4870250b01"
      },
      "outputs": [],
      "source": []
    },
    {
      "cell_type": "code",
      "execution_count": null,
      "id": "2353a833-abb8-40bc-abf1-1e142ceb5a83",
      "metadata": {
        "id": "2353a833-abb8-40bc-abf1-1e142ceb5a83"
      },
      "outputs": [],
      "source": []
    },
    {
      "cell_type": "code",
      "execution_count": null,
      "id": "02bb4213-5904-4956-b235-3f59aa4a54b6",
      "metadata": {
        "id": "02bb4213-5904-4956-b235-3f59aa4a54b6"
      },
      "outputs": [],
      "source": []
    },
    {
      "cell_type": "code",
      "execution_count": null,
      "id": "ce2b9fc8-93f8-4827-91cc-f23b48796949",
      "metadata": {
        "id": "ce2b9fc8-93f8-4827-91cc-f23b48796949"
      },
      "outputs": [],
      "source": []
    },
    {
      "cell_type": "code",
      "execution_count": null,
      "id": "53578baf-83e0-4b8f-af09-03fa74c504ff",
      "metadata": {
        "id": "53578baf-83e0-4b8f-af09-03fa74c504ff"
      },
      "outputs": [],
      "source": []
    },
    {
      "cell_type": "code",
      "execution_count": null,
      "id": "78bd0495-2fcc-402b-b1fa-b23610595441",
      "metadata": {
        "id": "78bd0495-2fcc-402b-b1fa-b23610595441"
      },
      "outputs": [],
      "source": []
    }
  ],
  "metadata": {
    "kernelspec": {
      "display_name": "Python 3 (ipykernel)",
      "language": "python",
      "name": "python3"
    },
    "language_info": {
      "codemirror_mode": {
        "name": "ipython",
        "version": 3
      },
      "file_extension": ".py",
      "mimetype": "text/x-python",
      "name": "python",
      "nbconvert_exporter": "python",
      "pygments_lexer": "ipython3",
      "version": "3.10.8"
    },
    "colab": {
      "provenance": []
    }
  },
  "nbformat": 4,
  "nbformat_minor": 5
}